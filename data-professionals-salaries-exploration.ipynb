{
 "cells": [
  {
   "cell_type": "code",
   "execution_count": 1,
   "id": "12e7a926",
   "metadata": {
    "_cell_guid": "b1076dfc-b9ad-4769-8c92-a6c4dae69d19",
    "_uuid": "8f2839f25d086af736a60e9eeb907d3b93b6e0e5",
    "execution": {
     "iopub.execute_input": "2022-02-12T14:05:35.723751Z",
     "iopub.status.busy": "2022-02-12T14:05:35.722797Z",
     "iopub.status.idle": "2022-02-12T14:05:35.739901Z",
     "shell.execute_reply": "2022-02-12T14:05:35.738846Z",
     "shell.execute_reply.started": "2022-02-12T14:04:04.587484Z"
    },
    "papermill": {
     "duration": 0.069502,
     "end_time": "2022-02-12T14:05:35.740160",
     "exception": false,
     "start_time": "2022-02-12T14:05:35.670658",
     "status": "completed"
    },
    "tags": []
   },
   "outputs": [
    {
     "name": "stdout",
     "output_type": "stream",
     "text": [
      "/kaggle/input/analytics-industry-salaries-2022-india/info.txt\n",
      "/kaggle/input/analytics-industry-salaries-2022-india/Salary Dataset.csv\n"
     ]
    }
   ],
   "source": [
    "# This Python 3 environment comes with many helpful analytics libraries installed\n",
    "# It is defined by the kaggle/python Docker image: https://github.com/kaggle/docker-python\n",
    "# For example, here's several helpful packages to load\n",
    "\n",
    "import numpy as np # linear algebra\n",
    "import pandas as pd # data processing, CSV file I/O (e.g. pd.read_csv)\n",
    "\n",
    "# Input data files are available in the read-only \"../input/\" directory\n",
    "# For example, running this (by clicking run or pressing Shift+Enter) will list all files under the input directory\n",
    "\n",
    "import os\n",
    "for dirname, _, filenames in os.walk('/kaggle/input'):\n",
    "    for filename in filenames:\n",
    "        print(os.path.join(dirname, filename))\n",
    "\n",
    "# You can write up to 20GB to the current directory (/kaggle/working/) that gets preserved as output when you create a version using \"Save & Run All\" \n",
    "# You can also write temporary files to /kaggle/temp/, but they won't be saved outside of the current session"
   ]
  },
  {
   "cell_type": "markdown",
   "id": "2c76d0a2",
   "metadata": {
    "papermill": {
     "duration": 0.038575,
     "end_time": "2022-02-12T14:05:35.817486",
     "exception": false,
     "start_time": "2022-02-12T14:05:35.778911",
     "status": "completed"
    },
    "tags": []
   },
   "source": [
    "# Preparation"
   ]
  },
  {
   "cell_type": "code",
   "execution_count": 2,
   "id": "1549d26b",
   "metadata": {
    "execution": {
     "iopub.execute_input": "2022-02-12T14:05:35.893978Z",
     "iopub.status.busy": "2022-02-12T14:05:35.893408Z",
     "iopub.status.idle": "2022-02-12T14:05:37.236128Z",
     "shell.execute_reply": "2022-02-12T14:05:37.235424Z",
     "shell.execute_reply.started": "2022-02-12T14:04:04.624585Z"
    },
    "papermill": {
     "duration": 1.382024,
     "end_time": "2022-02-12T14:05:37.236288",
     "exception": false,
     "start_time": "2022-02-12T14:05:35.854264",
     "status": "completed"
    },
    "tags": []
   },
   "outputs": [],
   "source": [
    "import sklearn as sk\n",
    "import matplotlib.pyplot as pyplot\n",
    "import seaborn as sb\n",
    "import re\n",
    "import matplotlib as mpl"
   ]
  },
  {
   "cell_type": "markdown",
   "id": "4a2ba2cf",
   "metadata": {
    "papermill": {
     "duration": 0.036335,
     "end_time": "2022-02-12T14:05:37.309624",
     "exception": false,
     "start_time": "2022-02-12T14:05:37.273289",
     "status": "completed"
    },
    "tags": []
   },
   "source": [
    "## Loading files"
   ]
  },
  {
   "cell_type": "code",
   "execution_count": 3,
   "id": "ee88d402",
   "metadata": {
    "execution": {
     "iopub.execute_input": "2022-02-12T14:05:37.389847Z",
     "iopub.status.busy": "2022-02-12T14:05:37.389186Z",
     "iopub.status.idle": "2022-02-12T14:05:37.415710Z",
     "shell.execute_reply": "2022-02-12T14:05:37.414945Z",
     "shell.execute_reply.started": "2022-02-12T14:04:05.718899Z"
    },
    "papermill": {
     "duration": 0.069124,
     "end_time": "2022-02-12T14:05:37.415873",
     "exception": false,
     "start_time": "2022-02-12T14:05:37.346749",
     "status": "completed"
    },
    "tags": []
   },
   "outputs": [],
   "source": [
    "source_dt = pd.read_csv('/kaggle/input/analytics-industry-salaries-2022-india/Salary Dataset.csv',header=0)"
   ]
  },
  {
   "cell_type": "code",
   "execution_count": 4,
   "id": "0989bece",
   "metadata": {
    "execution": {
     "iopub.execute_input": "2022-02-12T14:05:37.501667Z",
     "iopub.status.busy": "2022-02-12T14:05:37.500971Z",
     "iopub.status.idle": "2022-02-12T14:05:37.522310Z",
     "shell.execute_reply": "2022-02-12T14:05:37.523081Z",
     "shell.execute_reply.started": "2022-02-12T14:04:05.749628Z"
    },
    "papermill": {
     "duration": 0.070323,
     "end_time": "2022-02-12T14:05:37.523351",
     "exception": false,
     "start_time": "2022-02-12T14:05:37.453028",
     "status": "completed"
    },
    "tags": []
   },
   "outputs": [
    {
     "name": "stdout",
     "output_type": "stream",
     "text": [
      "<class 'pandas.core.frame.DataFrame'>\n",
      "RangeIndex: 4344 entries, 0 to 4343\n",
      "Data columns (total 5 columns):\n",
      " #   Column             Non-Null Count  Dtype  \n",
      "---  ------             --------------  -----  \n",
      " 0   Company Name       4341 non-null   object \n",
      " 1   Job Title          4344 non-null   object \n",
      " 2   Salaries Reported  4342 non-null   float64\n",
      " 3   Location           4344 non-null   object \n",
      " 4   Salary             4344 non-null   object \n",
      "dtypes: float64(1), object(4)\n",
      "memory usage: 169.8+ KB\n"
     ]
    }
   ],
   "source": [
    "source_dt.info()"
   ]
  },
  {
   "cell_type": "markdown",
   "id": "9b7f0e4d",
   "metadata": {
    "papermill": {
     "duration": 0.036612,
     "end_time": "2022-02-12T14:05:37.598378",
     "exception": false,
     "start_time": "2022-02-12T14:05:37.561766",
     "status": "completed"
    },
    "tags": []
   },
   "source": [
    "As we can see, its a very good dataset with no null values. The ideal next step would have been to take care of null values, but that is not needed here. Lets have a look at some samples."
   ]
  },
  {
   "cell_type": "code",
   "execution_count": 5,
   "id": "f5fd8e44",
   "metadata": {
    "execution": {
     "iopub.execute_input": "2022-02-12T14:05:37.684260Z",
     "iopub.status.busy": "2022-02-12T14:05:37.683559Z",
     "iopub.status.idle": "2022-02-12T14:05:37.686661Z",
     "shell.execute_reply": "2022-02-12T14:05:37.687128Z",
     "shell.execute_reply.started": "2022-02-12T14:04:05.777958Z"
    },
    "papermill": {
     "duration": 0.051357,
     "end_time": "2022-02-12T14:05:37.687315",
     "exception": false,
     "start_time": "2022-02-12T14:05:37.635958",
     "status": "completed"
    },
    "tags": []
   },
   "outputs": [
    {
     "data": {
      "text/plain": [
       "Company Name          object\n",
       "Job Title             object\n",
       "Salaries Reported    float64\n",
       "Location              object\n",
       "Salary                object\n",
       "dtype: object"
      ]
     },
     "execution_count": 5,
     "metadata": {},
     "output_type": "execute_result"
    }
   ],
   "source": [
    "source_dt.dtypes"
   ]
  },
  {
   "cell_type": "code",
   "execution_count": 6,
   "id": "572a2318",
   "metadata": {
    "execution": {
     "iopub.execute_input": "2022-02-12T14:05:37.767377Z",
     "iopub.status.busy": "2022-02-12T14:05:37.766684Z",
     "iopub.status.idle": "2022-02-12T14:05:37.785759Z",
     "shell.execute_reply": "2022-02-12T14:05:37.785080Z",
     "shell.execute_reply.started": "2022-02-12T14:04:05.788896Z"
    },
    "papermill": {
     "duration": 0.061007,
     "end_time": "2022-02-12T14:05:37.785916",
     "exception": false,
     "start_time": "2022-02-12T14:05:37.724909",
     "status": "completed"
    },
    "tags": []
   },
   "outputs": [
    {
     "data": {
      "text/html": [
       "<div>\n",
       "<style scoped>\n",
       "    .dataframe tbody tr th:only-of-type {\n",
       "        vertical-align: middle;\n",
       "    }\n",
       "\n",
       "    .dataframe tbody tr th {\n",
       "        vertical-align: top;\n",
       "    }\n",
       "\n",
       "    .dataframe thead th {\n",
       "        text-align: right;\n",
       "    }\n",
       "</style>\n",
       "<table border=\"1\" class=\"dataframe\">\n",
       "  <thead>\n",
       "    <tr style=\"text-align: right;\">\n",
       "      <th></th>\n",
       "      <th>Company Name</th>\n",
       "      <th>Job Title</th>\n",
       "      <th>Salaries Reported</th>\n",
       "      <th>Location</th>\n",
       "      <th>Salary</th>\n",
       "    </tr>\n",
       "  </thead>\n",
       "  <tbody>\n",
       "    <tr>\n",
       "      <th>0</th>\n",
       "      <td>Mu Sigma</td>\n",
       "      <td>Data Scientist</td>\n",
       "      <td>105.0</td>\n",
       "      <td>Bangalore</td>\n",
       "      <td>₹6,48,573/yr</td>\n",
       "    </tr>\n",
       "    <tr>\n",
       "      <th>1</th>\n",
       "      <td>IBM</td>\n",
       "      <td>Data Scientist</td>\n",
       "      <td>95.0</td>\n",
       "      <td>Bangalore</td>\n",
       "      <td>₹11,91,950/yr</td>\n",
       "    </tr>\n",
       "    <tr>\n",
       "      <th>2</th>\n",
       "      <td>Tata Consultancy Services</td>\n",
       "      <td>Data Scientist</td>\n",
       "      <td>66.0</td>\n",
       "      <td>Bangalore</td>\n",
       "      <td>₹8,36,874/yr</td>\n",
       "    </tr>\n",
       "    <tr>\n",
       "      <th>3</th>\n",
       "      <td>Impact Analytics</td>\n",
       "      <td>Data Scientist</td>\n",
       "      <td>40.0</td>\n",
       "      <td>Bangalore</td>\n",
       "      <td>₹6,69,578/yr</td>\n",
       "    </tr>\n",
       "    <tr>\n",
       "      <th>4</th>\n",
       "      <td>Accenture</td>\n",
       "      <td>Data Scientist</td>\n",
       "      <td>32.0</td>\n",
       "      <td>Bangalore</td>\n",
       "      <td>₹9,44,110/yr</td>\n",
       "    </tr>\n",
       "    <tr>\n",
       "      <th>5</th>\n",
       "      <td>Infosys</td>\n",
       "      <td>Data Scientist</td>\n",
       "      <td>30.0</td>\n",
       "      <td>Bangalore</td>\n",
       "      <td>₹9,08,764/yr</td>\n",
       "    </tr>\n",
       "    <tr>\n",
       "      <th>6</th>\n",
       "      <td>Capgemini</td>\n",
       "      <td>Data Scientist</td>\n",
       "      <td>28.0</td>\n",
       "      <td>Bangalore</td>\n",
       "      <td>₹9,26,124/yr</td>\n",
       "    </tr>\n",
       "    <tr>\n",
       "      <th>7</th>\n",
       "      <td>Cognizant Technology Solutions</td>\n",
       "      <td>Data Scientist</td>\n",
       "      <td>26.0</td>\n",
       "      <td>Bangalore</td>\n",
       "      <td>₹7,36,708/yr</td>\n",
       "    </tr>\n",
       "    <tr>\n",
       "      <th>8</th>\n",
       "      <td>Anheuser-Busch InBev</td>\n",
       "      <td>Data Scientist</td>\n",
       "      <td>25.0</td>\n",
       "      <td>Bangalore</td>\n",
       "      <td>₹16,46,721/yr</td>\n",
       "    </tr>\n",
       "    <tr>\n",
       "      <th>9</th>\n",
       "      <td>Fractal</td>\n",
       "      <td>Data Scientist</td>\n",
       "      <td>22.0</td>\n",
       "      <td>Bangalore</td>\n",
       "      <td>₹13,92,960/yr</td>\n",
       "    </tr>\n",
       "  </tbody>\n",
       "</table>\n",
       "</div>"
      ],
      "text/plain": [
       "                     Company Name       Job Title  Salaries Reported  \\\n",
       "0                        Mu Sigma  Data Scientist              105.0   \n",
       "1                             IBM  Data Scientist               95.0   \n",
       "2       Tata Consultancy Services  Data Scientist               66.0   \n",
       "3                Impact Analytics  Data Scientist               40.0   \n",
       "4                       Accenture  Data Scientist               32.0   \n",
       "5                         Infosys  Data Scientist               30.0   \n",
       "6                       Capgemini  Data Scientist               28.0   \n",
       "7  Cognizant Technology Solutions  Data Scientist               26.0   \n",
       "8            Anheuser-Busch InBev  Data Scientist               25.0   \n",
       "9                         Fractal  Data Scientist               22.0   \n",
       "\n",
       "    Location         Salary  \n",
       "0  Bangalore   ₹6,48,573/yr  \n",
       "1  Bangalore  ₹11,91,950/yr  \n",
       "2  Bangalore   ₹8,36,874/yr  \n",
       "3  Bangalore   ₹6,69,578/yr  \n",
       "4  Bangalore   ₹9,44,110/yr  \n",
       "5  Bangalore   ₹9,08,764/yr  \n",
       "6  Bangalore   ₹9,26,124/yr  \n",
       "7  Bangalore   ₹7,36,708/yr  \n",
       "8  Bangalore  ₹16,46,721/yr  \n",
       "9  Bangalore  ₹13,92,960/yr  "
      ]
     },
     "execution_count": 6,
     "metadata": {},
     "output_type": "execute_result"
    }
   ],
   "source": [
    "source_dt.head(10)"
   ]
  },
  {
   "cell_type": "markdown",
   "id": "85a12bf1",
   "metadata": {
    "papermill": {
     "duration": 0.038253,
     "end_time": "2022-02-12T14:05:37.863952",
     "exception": false,
     "start_time": "2022-02-12T14:05:37.825699",
     "status": "completed"
    },
    "tags": []
   },
   "source": [
    "The last field , Salary, is not in a good format for analysis. It contains string characters and the salary time frames are not uniform (monthly/ hourly/ annual are all mixed). Lets create a numerical only annual data field."
   ]
  },
  {
   "cell_type": "code",
   "execution_count": 7,
   "id": "109cc1fe",
   "metadata": {
    "execution": {
     "iopub.execute_input": "2022-02-12T14:05:37.946125Z",
     "iopub.status.busy": "2022-02-12T14:05:37.945074Z",
     "iopub.status.idle": "2022-02-12T14:05:37.954503Z",
     "shell.execute_reply": "2022-02-12T14:05:37.955017Z",
     "shell.execute_reply.started": "2022-02-12T14:04:05.812648Z"
    },
    "papermill": {
     "duration": 0.053,
     "end_time": "2022-02-12T14:05:37.955236",
     "exception": false,
     "start_time": "2022-02-12T14:05:37.902236",
     "status": "completed"
    },
    "tags": []
   },
   "outputs": [],
   "source": [
    "source_dt['Salary'] = source_dt['Salary'].astype(\"string\")\n",
    "source_dt['Company Name'] = source_dt['Company Name'].astype(\"string\")\n",
    "source_dt['Job Title'] = source_dt['Job Title'].astype(\"string\")\n",
    "source_dt['Location'] = source_dt['Location'].astype(\"string\")\n"
   ]
  },
  {
   "cell_type": "code",
   "execution_count": 8,
   "id": "db717a4e",
   "metadata": {
    "execution": {
     "iopub.execute_input": "2022-02-12T14:05:38.036089Z",
     "iopub.status.busy": "2022-02-12T14:05:38.034983Z",
     "iopub.status.idle": "2022-02-12T14:05:38.064571Z",
     "shell.execute_reply": "2022-02-12T14:05:38.065096Z",
     "shell.execute_reply.started": "2022-02-12T14:04:05.822910Z"
    },
    "papermill": {
     "duration": 0.071223,
     "end_time": "2022-02-12T14:05:38.065302",
     "exception": false,
     "start_time": "2022-02-12T14:05:37.994079",
     "status": "completed"
    },
    "tags": []
   },
   "outputs": [],
   "source": [
    "temp_arr = []\n",
    "for itr in source_dt['Salary']:\n",
    "    tmp_chr = ''\n",
    "    for in_itr in itr:\n",
    "        if in_itr.isdigit():\n",
    "            tmp_chr +=in_itr\n",
    "        \n",
    "    temp_arr.append(tmp_chr)\n",
    "source_dt['Salary Value'] = temp_arr       \n",
    "source_dt['Salary Value'] = source_dt['Salary Value'].astype(int)\n",
    "multipliers = []\n",
    "for itr in source_dt['Salary']:\n",
    "    if itr.find('yr') != -1:\n",
    "        multipliers.append(1)\n",
    "    elif itr.find('hr') != -1:\n",
    "        multipliers.append(2088) # Assuming 8 hours a day. removing weekends. still this will be an over estimate as we cant account for holidays\n",
    "    elif itr.find('mo') != -1:\n",
    "        multipliers.append(12)\n",
    "    else:\n",
    "        multipliers.append(-1)\n",
    "source_dt['Multipliers'] = multipliers\n",
    "source_dt['Salary Value'] = source_dt['Salary Value']*source_dt['Multipliers']\n",
    "#df['Numbers Only'] = df['Numbers and Text'].astype('str').str.extractall('(\\d+)').unstack().fillna('').sum(axis=1).astype(int)"
   ]
  },
  {
   "cell_type": "code",
   "execution_count": 9,
   "id": "35807fdb",
   "metadata": {
    "execution": {
     "iopub.execute_input": "2022-02-12T14:05:38.149318Z",
     "iopub.status.busy": "2022-02-12T14:05:38.148248Z",
     "iopub.status.idle": "2022-02-12T14:05:38.169352Z",
     "shell.execute_reply": "2022-02-12T14:05:38.169905Z",
     "shell.execute_reply.started": "2022-02-12T14:04:05.865041Z"
    },
    "papermill": {
     "duration": 0.066537,
     "end_time": "2022-02-12T14:05:38.170129",
     "exception": false,
     "start_time": "2022-02-12T14:05:38.103592",
     "status": "completed"
    },
    "tags": []
   },
   "outputs": [
    {
     "data": {
      "text/html": [
       "<div>\n",
       "<style scoped>\n",
       "    .dataframe tbody tr th:only-of-type {\n",
       "        vertical-align: middle;\n",
       "    }\n",
       "\n",
       "    .dataframe tbody tr th {\n",
       "        vertical-align: top;\n",
       "    }\n",
       "\n",
       "    .dataframe thead th {\n",
       "        text-align: right;\n",
       "    }\n",
       "</style>\n",
       "<table border=\"1\" class=\"dataframe\">\n",
       "  <thead>\n",
       "    <tr style=\"text-align: right;\">\n",
       "      <th></th>\n",
       "      <th>Company Name</th>\n",
       "      <th>Job Title</th>\n",
       "      <th>Salaries Reported</th>\n",
       "      <th>Location</th>\n",
       "      <th>Salary</th>\n",
       "      <th>Salary Value</th>\n",
       "      <th>Multipliers</th>\n",
       "    </tr>\n",
       "  </thead>\n",
       "  <tbody>\n",
       "    <tr>\n",
       "      <th>0</th>\n",
       "      <td>Mu Sigma</td>\n",
       "      <td>Data Scientist</td>\n",
       "      <td>105.0</td>\n",
       "      <td>Bangalore</td>\n",
       "      <td>₹6,48,573/yr</td>\n",
       "      <td>648573</td>\n",
       "      <td>1</td>\n",
       "    </tr>\n",
       "    <tr>\n",
       "      <th>1</th>\n",
       "      <td>IBM</td>\n",
       "      <td>Data Scientist</td>\n",
       "      <td>95.0</td>\n",
       "      <td>Bangalore</td>\n",
       "      <td>₹11,91,950/yr</td>\n",
       "      <td>1191950</td>\n",
       "      <td>1</td>\n",
       "    </tr>\n",
       "    <tr>\n",
       "      <th>2</th>\n",
       "      <td>Tata Consultancy Services</td>\n",
       "      <td>Data Scientist</td>\n",
       "      <td>66.0</td>\n",
       "      <td>Bangalore</td>\n",
       "      <td>₹8,36,874/yr</td>\n",
       "      <td>836874</td>\n",
       "      <td>1</td>\n",
       "    </tr>\n",
       "    <tr>\n",
       "      <th>3</th>\n",
       "      <td>Impact Analytics</td>\n",
       "      <td>Data Scientist</td>\n",
       "      <td>40.0</td>\n",
       "      <td>Bangalore</td>\n",
       "      <td>₹6,69,578/yr</td>\n",
       "      <td>669578</td>\n",
       "      <td>1</td>\n",
       "    </tr>\n",
       "    <tr>\n",
       "      <th>4</th>\n",
       "      <td>Accenture</td>\n",
       "      <td>Data Scientist</td>\n",
       "      <td>32.0</td>\n",
       "      <td>Bangalore</td>\n",
       "      <td>₹9,44,110/yr</td>\n",
       "      <td>944110</td>\n",
       "      <td>1</td>\n",
       "    </tr>\n",
       "    <tr>\n",
       "      <th>...</th>\n",
       "      <td>...</td>\n",
       "      <td>...</td>\n",
       "      <td>...</td>\n",
       "      <td>...</td>\n",
       "      <td>...</td>\n",
       "      <td>...</td>\n",
       "      <td>...</td>\n",
       "    </tr>\n",
       "    <tr>\n",
       "      <th>95</th>\n",
       "      <td>IBM</td>\n",
       "      <td>Data Scientist</td>\n",
       "      <td>4.0</td>\n",
       "      <td>Bangalore</td>\n",
       "      <td>₹32,953/mo</td>\n",
       "      <td>395436</td>\n",
       "      <td>12</td>\n",
       "    </tr>\n",
       "    <tr>\n",
       "      <th>96</th>\n",
       "      <td>ascena</td>\n",
       "      <td>Data Scientist</td>\n",
       "      <td>4.0</td>\n",
       "      <td>Bangalore</td>\n",
       "      <td>₹16,49,930/yr</td>\n",
       "      <td>1649930</td>\n",
       "      <td>1</td>\n",
       "    </tr>\n",
       "    <tr>\n",
       "      <th>97</th>\n",
       "      <td>QuantZig</td>\n",
       "      <td>Data Scientist</td>\n",
       "      <td>4.0</td>\n",
       "      <td>Bangalore</td>\n",
       "      <td>₹11,38,060/yr</td>\n",
       "      <td>1138060</td>\n",
       "      <td>1</td>\n",
       "    </tr>\n",
       "    <tr>\n",
       "      <th>98</th>\n",
       "      <td>Baker Hughes</td>\n",
       "      <td>Data Scientist</td>\n",
       "      <td>4.0</td>\n",
       "      <td>Bangalore</td>\n",
       "      <td>₹16,12,744/yr</td>\n",
       "      <td>1612744</td>\n",
       "      <td>1</td>\n",
       "    </tr>\n",
       "    <tr>\n",
       "      <th>99</th>\n",
       "      <td>Everlytics</td>\n",
       "      <td>Data Scientist</td>\n",
       "      <td>4.0</td>\n",
       "      <td>Bangalore</td>\n",
       "      <td>₹4,32,776/yr</td>\n",
       "      <td>432776</td>\n",
       "      <td>1</td>\n",
       "    </tr>\n",
       "  </tbody>\n",
       "</table>\n",
       "<p>100 rows × 7 columns</p>\n",
       "</div>"
      ],
      "text/plain": [
       "                 Company Name       Job Title  Salaries Reported   Location  \\\n",
       "0                    Mu Sigma  Data Scientist              105.0  Bangalore   \n",
       "1                         IBM  Data Scientist               95.0  Bangalore   \n",
       "2   Tata Consultancy Services  Data Scientist               66.0  Bangalore   \n",
       "3            Impact Analytics  Data Scientist               40.0  Bangalore   \n",
       "4                   Accenture  Data Scientist               32.0  Bangalore   \n",
       "..                        ...             ...                ...        ...   \n",
       "95                        IBM  Data Scientist                4.0  Bangalore   \n",
       "96                     ascena  Data Scientist                4.0  Bangalore   \n",
       "97                   QuantZig  Data Scientist                4.0  Bangalore   \n",
       "98               Baker Hughes  Data Scientist                4.0  Bangalore   \n",
       "99                 Everlytics  Data Scientist                4.0  Bangalore   \n",
       "\n",
       "           Salary  Salary Value  Multipliers  \n",
       "0    ₹6,48,573/yr        648573            1  \n",
       "1   ₹11,91,950/yr       1191950            1  \n",
       "2    ₹8,36,874/yr        836874            1  \n",
       "3    ₹6,69,578/yr        669578            1  \n",
       "4    ₹9,44,110/yr        944110            1  \n",
       "..            ...           ...          ...  \n",
       "95     ₹32,953/mo        395436           12  \n",
       "96  ₹16,49,930/yr       1649930            1  \n",
       "97  ₹11,38,060/yr       1138060            1  \n",
       "98  ₹16,12,744/yr       1612744            1  \n",
       "99   ₹4,32,776/yr        432776            1  \n",
       "\n",
       "[100 rows x 7 columns]"
      ]
     },
     "execution_count": 9,
     "metadata": {},
     "output_type": "execute_result"
    }
   ],
   "source": [
    "source_dt = source_dt[source_dt['Multipliers'] > 0]\n",
    "source_dt.head(100)"
   ]
  },
  {
   "cell_type": "markdown",
   "id": "4dda33ba",
   "metadata": {
    "execution": {
     "iopub.execute_input": "2022-02-12T05:18:46.498898Z",
     "iopub.status.busy": "2022-02-12T05:18:46.49809Z",
     "iopub.status.idle": "2022-02-12T05:18:46.521327Z",
     "shell.execute_reply": "2022-02-12T05:18:46.520491Z",
     "shell.execute_reply.started": "2022-02-12T05:18:46.498848Z"
    },
    "papermill": {
     "duration": 0.038518,
     "end_time": "2022-02-12T14:05:38.247680",
     "exception": false,
     "start_time": "2022-02-12T14:05:38.209162",
     "status": "completed"
    },
    "tags": []
   },
   "source": [
    "Now we can start on some analysis. The Data fields are corrected."
   ]
  },
  {
   "cell_type": "markdown",
   "id": "f9a0dc1e",
   "metadata": {
    "execution": {
     "iopub.execute_input": "2022-02-12T05:53:21.36773Z",
     "iopub.status.busy": "2022-02-12T05:53:21.366943Z",
     "iopub.status.idle": "2022-02-12T05:53:21.37798Z",
     "shell.execute_reply": "2022-02-12T05:53:21.376916Z",
     "shell.execute_reply.started": "2022-02-12T05:53:21.367667Z"
    },
    "papermill": {
     "duration": 0.038878,
     "end_time": "2022-02-12T14:05:38.325307",
     "exception": false,
     "start_time": "2022-02-12T14:05:38.286429",
     "status": "completed"
    },
    "tags": []
   },
   "source": [
    "# Analysis"
   ]
  },
  {
   "cell_type": "markdown",
   "id": "0702d20b",
   "metadata": {
    "papermill": {
     "duration": 0.038498,
     "end_time": "2022-02-12T14:05:38.402711",
     "exception": false,
     "start_time": "2022-02-12T14:05:38.364213",
     "status": "completed"
    },
    "tags": []
   },
   "source": [
    "## Role level Pay scale\n",
    "Lets Start with the simplest thing first, which out of the listed designations pay the most.\n",
    "\n",
    "Lets have a look at all posible desginations first, including samples for which we only have 1-2 records"
   ]
  },
  {
   "cell_type": "code",
   "execution_count": 10,
   "id": "b4f6d157",
   "metadata": {
    "execution": {
     "iopub.execute_input": "2022-02-12T14:05:38.488208Z",
     "iopub.status.busy": "2022-02-12T14:05:38.487234Z",
     "iopub.status.idle": "2022-02-12T14:05:38.501359Z",
     "shell.execute_reply": "2022-02-12T14:05:38.501888Z",
     "shell.execute_reply.started": "2022-02-12T14:04:05.895253Z"
    },
    "papermill": {
     "duration": 0.060425,
     "end_time": "2022-02-12T14:05:38.502103",
     "exception": false,
     "start_time": "2022-02-12T14:05:38.441678",
     "status": "completed"
    },
    "tags": []
   },
   "outputs": [
    {
     "data": {
      "text/plain": [
       "Job Title\n",
       "Associate Machine Learning Engineer          464372.0\n",
       "Data Analyst                                 573652.0\n",
       "Data Engineer                                907729.0\n",
       "Data Science                                 364905.0\n",
       "Data Science Associate                      1203913.0\n",
       "Data Science Consultant                     2671464.0\n",
       "Data Science Lead                           4068310.0\n",
       "Data Science Manager                        4619021.0\n",
       "Data Scientist                              1135470.0\n",
       "Data Scientist - Trainee                     610512.0\n",
       "Junior Data Scientist                        596323.0\n",
       "Lead Data Scientist                         1852189.0\n",
       "Machine Learning Associate                   295114.0\n",
       "Machine Learning Consultant                  706401.0\n",
       "Machine Learning Data Analyst                361378.0\n",
       "Machine Learning Data Associate              275841.0\n",
       "Machine Learning Data Associate I            258596.0\n",
       "Machine Learning Data Associate II           383213.0\n",
       "Machine Learning Developer                   581119.0\n",
       "Machine Learning Engineer                    777532.0\n",
       "Machine Learning Engineer/Data Scientist     677580.0\n",
       "Machine Learning Scientist                   170118.0\n",
       "Machine Learning Software Engineer          1397347.0\n",
       "Senior Data Scientist                       1766130.0\n",
       "Senior Machine Learning Engineer            1473436.0\n",
       "Software Engineer - Machine Learning        1566780.0\n",
       "Name: Salary Value, dtype: float64"
      ]
     },
     "execution_count": 10,
     "metadata": {},
     "output_type": "execute_result"
    }
   ],
   "source": [
    "temp_dt = source_dt[source_dt['Salaries Reported']>0]\n",
    "temp_dt['Salary Value'].groupby(temp_dt['Job Title']).mean().round(0)"
   ]
  },
  {
   "cell_type": "markdown",
   "id": "d3fd00ce",
   "metadata": {
    "papermill": {
     "duration": 0.038467,
     "end_time": "2022-02-12T14:05:38.579626",
     "exception": false,
     "start_time": "2022-02-12T14:05:38.541159",
     "status": "completed"
    },
    "tags": []
   },
   "source": [
    "Lets Sort it and prepare a chart of the top 5"
   ]
  },
  {
   "cell_type": "code",
   "execution_count": 11,
   "id": "df2c7557",
   "metadata": {
    "execution": {
     "iopub.execute_input": "2022-02-12T14:05:38.665703Z",
     "iopub.status.busy": "2022-02-12T14:05:38.664696Z",
     "iopub.status.idle": "2022-02-12T14:05:38.873702Z",
     "shell.execute_reply": "2022-02-12T14:05:38.874184Z",
     "shell.execute_reply.started": "2022-02-12T14:04:05.915772Z"
    },
    "papermill": {
     "duration": 0.255766,
     "end_time": "2022-02-12T14:05:38.874384",
     "exception": false,
     "start_time": "2022-02-12T14:05:38.618618",
     "status": "completed"
    },
    "tags": []
   },
   "outputs": [
    {
     "data": {
      "image/png": "[encoded data removed]",
      "text/plain": [
       "<Figure size 1008x288 with 1 Axes>"
      ]
     },
     "metadata": {
      "needs_background": "light"
     },
     "output_type": "display_data"
    }
   ],
   "source": [
    "chart_dt = temp_dt['Salary Value'].groupby(temp_dt['Job Title']).mean().round(0)\n",
    "chart_dt = chart_dt.sort_values(ascending = False)\n",
    "chart_dt = chart_dt.head(5)\n",
    "\n",
    "fig,ax = pyplot.subplots(figsize = (14,4))\n",
    "\n",
    "ax.bar(chart_dt.index,chart_dt.values)\n",
    "ax.yaxis.set_major_formatter(mpl.ticker.StrMethodFormatter('Rs {x:,.0f}'))\n",
    "ax.yaxis.grid(color='black', linestyle='--', linewidth= 0.3)\n",
    "pyplot.show()"
   ]
  },
  {
   "cell_type": "markdown",
   "id": "b0b1485a",
   "metadata": {
    "papermill": {
     "duration": 0.04002,
     "end_time": "2022-02-12T14:05:38.954321",
     "exception": false,
     "start_time": "2022-02-12T14:05:38.914301",
     "status": "completed"
    },
    "tags": []
   },
   "source": [
    "This might not be very useful however, as the count of some desgination can be very low. To get a good result, we must remove those categories for which we dont have enough samples."
   ]
  },
  {
   "cell_type": "code",
   "execution_count": 12,
   "id": "cd3fcdd8",
   "metadata": {
    "execution": {
     "iopub.execute_input": "2022-02-12T14:05:39.042400Z",
     "iopub.status.busy": "2022-02-12T14:05:39.041060Z",
     "iopub.status.idle": "2022-02-12T14:05:39.046529Z",
     "shell.execute_reply": "2022-02-12T14:05:39.047028Z",
     "shell.execute_reply.started": "2022-02-12T14:04:06.140853Z"
    },
    "papermill": {
     "duration": 0.053231,
     "end_time": "2022-02-12T14:05:39.047226",
     "exception": false,
     "start_time": "2022-02-12T14:05:38.993995",
     "status": "completed"
    },
    "tags": []
   },
   "outputs": [],
   "source": [
    "filter_dt = source_dt['Salaries Reported'].groupby(source_dt['Job Title']).sum().round(0)\n"
   ]
  },
  {
   "cell_type": "code",
   "execution_count": 13,
   "id": "a5cece9d",
   "metadata": {
    "execution": {
     "iopub.execute_input": "2022-02-12T14:05:39.131557Z",
     "iopub.status.busy": "2022-02-12T14:05:39.130608Z",
     "iopub.status.idle": "2022-02-12T14:05:39.137674Z",
     "shell.execute_reply": "2022-02-12T14:05:39.138232Z",
     "shell.execute_reply.started": "2022-02-12T14:04:06.152537Z"
    },
    "papermill": {
     "duration": 0.050931,
     "end_time": "2022-02-12T14:05:39.138412",
     "exception": false,
     "start_time": "2022-02-12T14:05:39.087481",
     "status": "completed"
    },
    "tags": []
   },
   "outputs": [
    {
     "data": {
      "text/plain": [
       "Job Title\n",
       "Data Analyst                 4466.0\n",
       "Data Engineer                2130.0\n",
       "Data Scientist               4404.0\n",
       "Machine Learning Engineer     809.0\n",
       "Name: Salaries Reported, dtype: float64"
      ]
     },
     "execution_count": 13,
     "metadata": {},
     "output_type": "execute_result"
    }
   ],
   "source": [
    "filter_dt = filter_dt[filter_dt.values > 500]\n",
    "filter_dt"
   ]
  },
  {
   "cell_type": "code",
   "execution_count": 14,
   "id": "42e6c753",
   "metadata": {
    "execution": {
     "iopub.execute_input": "2022-02-12T14:05:39.222946Z",
     "iopub.status.busy": "2022-02-12T14:05:39.221967Z",
     "iopub.status.idle": "2022-02-12T14:05:39.236466Z",
     "shell.execute_reply": "2022-02-12T14:05:39.235830Z",
     "shell.execute_reply.started": "2022-02-12T14:04:06.167198Z"
    },
    "papermill": {
     "duration": 0.05811,
     "end_time": "2022-02-12T14:05:39.236629",
     "exception": false,
     "start_time": "2022-02-12T14:05:39.178519",
     "status": "completed"
    },
    "tags": []
   },
   "outputs": [
    {
     "data": {
      "text/plain": [
       "Job Title\n",
       "Data Analyst                  573531.0\n",
       "Data Engineer                 907729.0\n",
       "Data Scientist               1135470.0\n",
       "Machine Learning Engineer     777532.0\n",
       "Name: Salary Value, dtype: float64"
      ]
     },
     "execution_count": 14,
     "metadata": {},
     "output_type": "execute_result"
    }
   ],
   "source": [
    "job_list = filter_dt.index.tolist()\n",
    "temp_dt_bool = source_dt['Job Title'].isin(job_list)\n",
    "temp_dt = source_dt[temp_dt_bool]\n",
    "temp_dt['Salary Value'].groupby(temp_dt['Job Title']).mean().round(0)"
   ]
  },
  {
   "cell_type": "markdown",
   "id": "389765c4",
   "metadata": {
    "papermill": {
     "duration": 0.040233,
     "end_time": "2022-02-12T14:05:39.317815",
     "exception": false,
     "start_time": "2022-02-12T14:05:39.277582",
     "status": "completed"
    },
    "tags": []
   },
   "source": [
    "As we can see, only 4 remain when we apply the filter count> 500. Plotting them."
   ]
  },
  {
   "cell_type": "code",
   "execution_count": 15,
   "id": "c5ea83e6",
   "metadata": {
    "execution": {
     "iopub.execute_input": "2022-02-12T14:05:39.403736Z",
     "iopub.status.busy": "2022-02-12T14:05:39.402756Z",
     "iopub.status.idle": "2022-02-12T14:05:39.582154Z",
     "shell.execute_reply": "2022-02-12T14:05:39.582909Z",
     "shell.execute_reply.started": "2022-02-12T14:04:06.195750Z"
    },
    "papermill": {
     "duration": 0.224281,
     "end_time": "2022-02-12T14:05:39.583140",
     "exception": false,
     "start_time": "2022-02-12T14:05:39.358859",
     "status": "completed"
    },
    "tags": []
   },
   "outputs": [
    {
     "data": {
      "image/png": "[encoded data removed]",
      "text/plain": [
       "<Figure size 1008x288 with 1 Axes>"
      ]
     },
     "metadata": {
      "needs_background": "light"
     },
     "output_type": "display_data"
    }
   ],
   "source": [
    "chart_dt = temp_dt['Salary Value'].groupby(temp_dt['Job Title']).mean().round(0)\n",
    "chart_dt = chart_dt.sort_values(ascending = False)\n",
    "chart_dt = chart_dt.head(5)\n",
    "\n",
    "fig,ax = pyplot.subplots(figsize = (14,4))\n",
    "\n",
    "ax.bar(chart_dt.index,chart_dt.values)\n",
    "ax.yaxis.set_major_formatter(mpl.ticker.StrMethodFormatter('Rs {x:,.0f}'))\n",
    "ax.yaxis.grid(color='black', linestyle='--', linewidth= 0.3)\n",
    "pyplot.show()"
   ]
  },
  {
   "cell_type": "markdown",
   "id": "17a1155b",
   "metadata": {
    "papermill": {
     "duration": 0.041057,
     "end_time": "2022-02-12T14:05:39.665377",
     "exception": false,
     "start_time": "2022-02-12T14:05:39.624320",
     "status": "completed"
    },
    "tags": []
   },
   "source": [
    "### Conclusion for this section\n",
    "Data scientists win! They tend to have higher salaries than other common data based job titles.\n",
    "Just for completeness, lets also have a look at the maximums."
   ]
  },
  {
   "cell_type": "code",
   "execution_count": 16,
   "id": "29b464cb",
   "metadata": {
    "execution": {
     "iopub.execute_input": "2022-02-12T14:05:39.757923Z",
     "iopub.status.busy": "2022-02-12T14:05:39.757264Z",
     "iopub.status.idle": "2022-02-12T14:05:39.942460Z",
     "shell.execute_reply": "2022-02-12T14:05:39.942949Z",
     "shell.execute_reply.started": "2022-02-12T14:04:06.382970Z"
    },
    "papermill": {
     "duration": 0.236583,
     "end_time": "2022-02-12T14:05:39.943178",
     "exception": false,
     "start_time": "2022-02-12T14:05:39.706595",
     "status": "completed"
    },
    "tags": []
   },
   "outputs": [
    {
     "data": {
      "image/png": "[encoded data removed]",
      "text/plain": [
       "<Figure size 1080x288 with 1 Axes>"
      ]
     },
     "metadata": {
      "needs_background": "light"
     },
     "output_type": "display_data"
    }
   ],
   "source": [
    "\n",
    "chart_dt = temp_dt['Salary Value'].groupby(temp_dt['Job Title']).max().round(0)\n",
    "chart_dt = chart_dt.sort_values(ascending = False)\n",
    "chart_dt = chart_dt.head(5)\n",
    "\n",
    "fig,ax = pyplot.subplots(figsize = (15,4))\n",
    "\n",
    "ax.bar(chart_dt.index,chart_dt.values)\n",
    "ax.yaxis.set_major_formatter(mpl.ticker.StrMethodFormatter('Rs {x:,.0f}'))\n",
    "ax.yaxis.grid(color='black', linestyle='--', linewidth= 0.3)\n",
    "pyplot.show()"
   ]
  },
  {
   "cell_type": "markdown",
   "id": "7f7dda1c",
   "metadata": {
    "papermill": {
     "duration": 0.041482,
     "end_time": "2022-02-12T14:05:40.028026",
     "exception": false,
     "start_time": "2022-02-12T14:05:39.986544",
     "status": "completed"
    },
    "tags": []
   },
   "source": [
    "Those are some hefty salaries.. Lets look at the records.\n"
   ]
  },
  {
   "cell_type": "code",
   "execution_count": 17,
   "id": "ffdb261e",
   "metadata": {
    "execution": {
     "iopub.execute_input": "2022-02-12T14:05:40.131581Z",
     "iopub.status.busy": "2022-02-12T14:05:40.119108Z",
     "iopub.status.idle": "2022-02-12T14:05:40.134817Z",
     "shell.execute_reply": "2022-02-12T14:05:40.135403Z",
     "shell.execute_reply.started": "2022-02-12T14:04:06.583794Z"
    },
    "papermill": {
     "duration": 0.06553,
     "end_time": "2022-02-12T14:05:40.135593",
     "exception": false,
     "start_time": "2022-02-12T14:05:40.070063",
     "status": "completed"
    },
    "tags": []
   },
   "outputs": [
    {
     "data": {
      "text/html": [
       "<div>\n",
       "<style scoped>\n",
       "    .dataframe tbody tr th:only-of-type {\n",
       "        vertical-align: middle;\n",
       "    }\n",
       "\n",
       "    .dataframe tbody tr th {\n",
       "        vertical-align: top;\n",
       "    }\n",
       "\n",
       "    .dataframe thead th {\n",
       "        text-align: right;\n",
       "    }\n",
       "</style>\n",
       "<table border=\"1\" class=\"dataframe\">\n",
       "  <thead>\n",
       "    <tr style=\"text-align: right;\">\n",
       "      <th></th>\n",
       "      <th>Company Name</th>\n",
       "      <th>Job Title</th>\n",
       "      <th>Salaries Reported</th>\n",
       "      <th>Location</th>\n",
       "      <th>Salary</th>\n",
       "      <th>Salary Value</th>\n",
       "      <th>Multipliers</th>\n",
       "    </tr>\n",
       "  </thead>\n",
       "  <tbody>\n",
       "    <tr>\n",
       "      <th>900</th>\n",
       "      <td>L Brands</td>\n",
       "      <td>Data Scientist</td>\n",
       "      <td>1.0</td>\n",
       "      <td>Bangalore</td>\n",
       "      <td>₹15,67,329/mo</td>\n",
       "      <td>18807948</td>\n",
       "      <td>12</td>\n",
       "    </tr>\n",
       "    <tr>\n",
       "      <th>2503</th>\n",
       "      <td>Enrich IBS</td>\n",
       "      <td>Data Analyst</td>\n",
       "      <td>1.0</td>\n",
       "      <td>Hyderabad</td>\n",
       "      <td>₹3,14,473/mo</td>\n",
       "      <td>3773676</td>\n",
       "      <td>12</td>\n",
       "    </tr>\n",
       "    <tr>\n",
       "      <th>2517</th>\n",
       "      <td>Nassau Re</td>\n",
       "      <td>Data Analyst</td>\n",
       "      <td>1.0</td>\n",
       "      <td>Hyderabad</td>\n",
       "      <td>₹3,14,473/mo</td>\n",
       "      <td>3773676</td>\n",
       "      <td>12</td>\n",
       "    </tr>\n",
       "    <tr>\n",
       "      <th>3644</th>\n",
       "      <td>Goldman Sachs</td>\n",
       "      <td>Data Engineer</td>\n",
       "      <td>1.0</td>\n",
       "      <td>Mumbai</td>\n",
       "      <td>₹39,77,066/yr</td>\n",
       "      <td>3977066</td>\n",
       "      <td>1</td>\n",
       "    </tr>\n",
       "    <tr>\n",
       "      <th>4062</th>\n",
       "      <td>Meta</td>\n",
       "      <td>Machine Learning Engineer</td>\n",
       "      <td>1.0</td>\n",
       "      <td>Hyderabad</td>\n",
       "      <td>₹3,017/hr</td>\n",
       "      <td>6299496</td>\n",
       "      <td>2088</td>\n",
       "    </tr>\n",
       "  </tbody>\n",
       "</table>\n",
       "</div>"
      ],
      "text/plain": [
       "       Company Name                  Job Title  Salaries Reported   Location  \\\n",
       "900        L Brands             Data Scientist                1.0  Bangalore   \n",
       "2503     Enrich IBS               Data Analyst                1.0  Hyderabad   \n",
       "2517      Nassau Re               Data Analyst                1.0  Hyderabad   \n",
       "3644  Goldman Sachs              Data Engineer                1.0     Mumbai   \n",
       "4062           Meta  Machine Learning Engineer                1.0  Hyderabad   \n",
       "\n",
       "             Salary  Salary Value  Multipliers  \n",
       "900   ₹15,67,329/mo      18807948           12  \n",
       "2503   ₹3,14,473/mo       3773676           12  \n",
       "2517   ₹3,14,473/mo       3773676           12  \n",
       "3644  ₹39,77,066/yr       3977066            1  \n",
       "4062      ₹3,017/hr       6299496         2088  "
      ]
     },
     "execution_count": 17,
     "metadata": {},
     "output_type": "execute_result"
    }
   ],
   "source": [
    "indexes = source_dt.groupby(['Job Title'])['Salary Value'].transform(max) == source_dt['Salary Value']\n",
    "Best_salaries = source_dt[indexes]\n",
    "temp_dt_bool = Best_salaries['Job Title'].isin(job_list)\n",
    "Best_salaries = Best_salaries[temp_dt_bool]\n",
    "Best_salaries  "
   ]
  },
  {
   "cell_type": "markdown",
   "id": "ccc898ec",
   "metadata": {
    "papermill": {
     "duration": 0.04251,
     "end_time": "2022-02-12T14:05:40.221005",
     "exception": false,
     "start_time": "2022-02-12T14:05:40.178495",
     "status": "completed"
    },
    "tags": []
   },
   "source": [
    "## Company data\n",
    "Now lets see which companies pay the most! We will compare per designation, only for the 4 job titles for which we have sizable data"
   ]
  },
  {
   "cell_type": "markdown",
   "id": "6b3bdaf6",
   "metadata": {
    "papermill": {
     "duration": 0.042395,
     "end_time": "2022-02-12T14:05:40.307349",
     "exception": false,
     "start_time": "2022-02-12T14:05:40.264954",
     "status": "completed"
    },
    "tags": []
   },
   "source": [
    "### Data Scientists"
   ]
  },
  {
   "cell_type": "code",
   "execution_count": 18,
   "id": "ead79037",
   "metadata": {
    "execution": {
     "iopub.execute_input": "2022-02-12T14:05:40.397395Z",
     "iopub.status.busy": "2022-02-12T14:05:40.396425Z",
     "iopub.status.idle": "2022-02-12T14:05:40.408316Z",
     "shell.execute_reply": "2022-02-12T14:05:40.408822Z",
     "shell.execute_reply.started": "2022-02-12T14:04:06.612762Z"
    },
    "papermill": {
     "duration": 0.05863,
     "end_time": "2022-02-12T14:05:40.409013",
     "exception": false,
     "start_time": "2022-02-12T14:05:40.350383",
     "status": "completed"
    },
    "tags": []
   },
   "outputs": [],
   "source": [
    "data_scientist_comp_dt = source_dt[source_dt['Job Title'] == \"Data Scientist\"]\n",
    "data_scientist_comp_dt_sr_outliers = data_scientist_comp_dt['Salary Value'].groupby(data_scientist_comp_dt['Company Name']).mean().round(0)\n",
    "data_scientist_comp_dt_sr_outliers = data_scientist_comp_dt_sr_outliers.sort_values(ascending = False)\n",
    "\n"
   ]
  },
  {
   "cell_type": "code",
   "execution_count": 19,
   "id": "268f92b2",
   "metadata": {
    "execution": {
     "iopub.execute_input": "2022-02-12T14:05:40.498826Z",
     "iopub.status.busy": "2022-02-12T14:05:40.497829Z",
     "iopub.status.idle": "2022-02-12T14:05:40.736896Z",
     "shell.execute_reply": "2022-02-12T14:05:40.737406Z",
     "shell.execute_reply.started": "2022-02-12T14:04:06.631023Z"
    },
    "papermill": {
     "duration": 0.286144,
     "end_time": "2022-02-12T14:05:40.737605",
     "exception": false,
     "start_time": "2022-02-12T14:05:40.451461",
     "status": "completed"
    },
    "tags": []
   },
   "outputs": [
    {
     "data": {
      "image/png": "[encoded data removed]",
      "text/plain": [
       "<Figure size 1440x288 with 1 Axes>"
      ]
     },
     "metadata": {
      "needs_background": "light"
     },
     "output_type": "display_data"
    }
   ],
   "source": [
    "fig,ax = pyplot.subplots(figsize = (20,4))\n",
    "\n",
    "ax.bar(data_scientist_comp_dt_sr_outliers.head(10).index,data_scientist_comp_dt_sr_outliers.head(10).values)\n",
    "ax.yaxis.set_major_formatter(mpl.ticker.StrMethodFormatter('Rs. {x:,.0f}'))\n",
    "ax.yaxis.grid(color='black', linestyle='--', linewidth= 0.3)\n",
    "ax.xaxis.set_tick_params(labelsize='small')\n",
    "ax.set_xlabel('Companies',fontsize = 12)\n",
    "pyplot.show()"
   ]
  },
  {
   "cell_type": "code",
   "execution_count": 20,
   "id": "2406ba9d",
   "metadata": {
    "execution": {
     "iopub.execute_input": "2022-02-12T14:05:40.832321Z",
     "iopub.status.busy": "2022-02-12T14:05:40.831323Z",
     "iopub.status.idle": "2022-02-12T14:05:41.051805Z",
     "shell.execute_reply": "2022-02-12T14:05:41.051233Z",
     "shell.execute_reply.started": "2022-02-12T14:04:06.881012Z"
    },
    "papermill": {
     "duration": 0.269973,
     "end_time": "2022-02-12T14:05:41.051954",
     "exception": false,
     "start_time": "2022-02-12T14:05:40.781981",
     "status": "completed"
    },
    "tags": []
   },
   "outputs": [
    {
     "data": {
      "image/png": "[encoded data removed]",
      "text/plain": [
       "<Figure size 1440x288 with 1 Axes>"
      ]
     },
     "metadata": {
      "needs_background": "light"
     },
     "output_type": "display_data"
    }
   ],
   "source": [
    "fig,ax = pyplot.subplots(figsize = (20,4))\n",
    "\n",
    "ax.bar(data_scientist_comp_dt_sr_outliers.tail(9).index,data_scientist_comp_dt_sr_outliers.tail(9).values)\n",
    "ax.yaxis.set_major_formatter(mpl.ticker.StrMethodFormatter('Rs. {x:,.0f}'))\n",
    "ax.yaxis.grid(color='black', linestyle='--', linewidth= 0.3)\n",
    "ax.xaxis.set_tick_params(labelsize='small')\n",
    "ax.set_xlabel('Companies',fontsize = 12)\n",
    "pyplot.show()"
   ]
  },
  {
   "cell_type": "markdown",
   "id": "c70bc426",
   "metadata": {
    "papermill": {
     "duration": 0.04602,
     "end_time": "2022-02-12T14:05:41.144081",
     "exception": false,
     "start_time": "2022-02-12T14:05:41.098061",
     "status": "completed"
    },
    "tags": []
   },
   "source": [
    "Same issue as before may happen here as well, a few records with extreme values can skew result. We must look at companies with decent number of samples. For simplicity's sake, lets just go with top 100 companies in terms of reports. \n"
   ]
  },
  {
   "cell_type": "code",
   "execution_count": 21,
   "id": "2632c21b",
   "metadata": {
    "execution": {
     "iopub.execute_input": "2022-02-12T14:05:41.238764Z",
     "iopub.status.busy": "2022-02-12T14:05:41.238123Z",
     "iopub.status.idle": "2022-02-12T14:05:41.469261Z",
     "shell.execute_reply": "2022-02-12T14:05:41.469740Z",
     "shell.execute_reply.started": "2022-02-12T14:04:07.120051Z"
    },
    "papermill": {
     "duration": 0.280206,
     "end_time": "2022-02-12T14:05:41.469928",
     "exception": false,
     "start_time": "2022-02-12T14:05:41.189722",
     "status": "completed"
    },
    "tags": []
   },
   "outputs": [
    {
     "data": {
      "image/png": "[encoded data removed]",
      "text/plain": [
       "<Figure size 1440x288 with 1 Axes>"
      ]
     },
     "metadata": {
      "needs_background": "light"
     },
     "output_type": "display_data"
    }
   ],
   "source": [
    "data_scientist_comp_dt_comp_sr = data_scientist_comp_dt['Salaries Reported'].groupby(data_scientist_comp_dt['Company Name']).sum().round(0)\n",
    "data_scientist_comp_dt_comp_sr = data_scientist_comp_dt_comp_sr.sort_values(ascending = False).head(100)\n",
    "\n",
    "fig,ax = pyplot.subplots(figsize = (20,4))\n",
    "\n",
    "ax.bar(data_scientist_comp_dt_comp_sr.head(10).index,data_scientist_comp_dt_comp_sr.head(10).values)\n",
    "ax.yaxis.set_major_formatter(mpl.ticker.StrMethodFormatter('{x:,.0f}'))\n",
    "ax.yaxis.grid(color='black', linestyle='--', linewidth= 0.3)\n",
    "ax.xaxis.set_tick_params(labelsize='small')\n",
    "ax.set_xlabel('Companies',fontsize = 12)\n",
    "pyplot.show()"
   ]
  },
  {
   "cell_type": "markdown",
   "id": "500d7b00",
   "metadata": {
    "papermill": {
     "duration": 0.046188,
     "end_time": "2022-02-12T14:05:41.562608",
     "exception": false,
     "start_time": "2022-02-12T14:05:41.516420",
     "status": "completed"
    },
    "tags": []
   },
   "source": [
    "Now we can start seeing some big name companies! Lets change our original data to only contain records for these 100 companies"
   ]
  },
  {
   "cell_type": "code",
   "execution_count": 22,
   "id": "18c99e9b",
   "metadata": {
    "execution": {
     "iopub.execute_input": "2022-02-12T14:05:41.665796Z",
     "iopub.status.busy": "2022-02-12T14:05:41.665069Z",
     "iopub.status.idle": "2022-02-12T14:05:41.683200Z",
     "shell.execute_reply": "2022-02-12T14:05:41.682548Z",
     "shell.execute_reply.started": "2022-02-12T14:04:07.360813Z"
    },
    "papermill": {
     "duration": 0.074343,
     "end_time": "2022-02-12T14:05:41.683356",
     "exception": false,
     "start_time": "2022-02-12T14:05:41.609013",
     "status": "completed"
    },
    "tags": []
   },
   "outputs": [
    {
     "data": {
      "text/html": [
       "<div>\n",
       "<style scoped>\n",
       "    .dataframe tbody tr th:only-of-type {\n",
       "        vertical-align: middle;\n",
       "    }\n",
       "\n",
       "    .dataframe tbody tr th {\n",
       "        vertical-align: top;\n",
       "    }\n",
       "\n",
       "    .dataframe thead th {\n",
       "        text-align: right;\n",
       "    }\n",
       "</style>\n",
       "<table border=\"1\" class=\"dataframe\">\n",
       "  <thead>\n",
       "    <tr style=\"text-align: right;\">\n",
       "      <th></th>\n",
       "      <th>Company Name</th>\n",
       "      <th>Job Title</th>\n",
       "      <th>Salaries Reported</th>\n",
       "      <th>Location</th>\n",
       "      <th>Salary</th>\n",
       "      <th>Salary Value</th>\n",
       "      <th>Multipliers</th>\n",
       "    </tr>\n",
       "  </thead>\n",
       "  <tbody>\n",
       "    <tr>\n",
       "      <th>0</th>\n",
       "      <td>Mu Sigma</td>\n",
       "      <td>Data Scientist</td>\n",
       "      <td>105.0</td>\n",
       "      <td>Bangalore</td>\n",
       "      <td>₹6,48,573/yr</td>\n",
       "      <td>648573</td>\n",
       "      <td>1</td>\n",
       "    </tr>\n",
       "    <tr>\n",
       "      <th>1</th>\n",
       "      <td>IBM</td>\n",
       "      <td>Data Scientist</td>\n",
       "      <td>95.0</td>\n",
       "      <td>Bangalore</td>\n",
       "      <td>₹11,91,950/yr</td>\n",
       "      <td>1191950</td>\n",
       "      <td>1</td>\n",
       "    </tr>\n",
       "    <tr>\n",
       "      <th>2</th>\n",
       "      <td>Tata Consultancy Services</td>\n",
       "      <td>Data Scientist</td>\n",
       "      <td>66.0</td>\n",
       "      <td>Bangalore</td>\n",
       "      <td>₹8,36,874/yr</td>\n",
       "      <td>836874</td>\n",
       "      <td>1</td>\n",
       "    </tr>\n",
       "    <tr>\n",
       "      <th>3</th>\n",
       "      <td>Impact Analytics</td>\n",
       "      <td>Data Scientist</td>\n",
       "      <td>40.0</td>\n",
       "      <td>Bangalore</td>\n",
       "      <td>₹6,69,578/yr</td>\n",
       "      <td>669578</td>\n",
       "      <td>1</td>\n",
       "    </tr>\n",
       "    <tr>\n",
       "      <th>4</th>\n",
       "      <td>Accenture</td>\n",
       "      <td>Data Scientist</td>\n",
       "      <td>32.0</td>\n",
       "      <td>Bangalore</td>\n",
       "      <td>₹9,44,110/yr</td>\n",
       "      <td>944110</td>\n",
       "      <td>1</td>\n",
       "    </tr>\n",
       "    <tr>\n",
       "      <th>...</th>\n",
       "      <td>...</td>\n",
       "      <td>...</td>\n",
       "      <td>...</td>\n",
       "      <td>...</td>\n",
       "      <td>...</td>\n",
       "      <td>...</td>\n",
       "      <td>...</td>\n",
       "    </tr>\n",
       "    <tr>\n",
       "      <th>459</th>\n",
       "      <td>DONE by NONE</td>\n",
       "      <td>Data Scientist</td>\n",
       "      <td>1.0</td>\n",
       "      <td>Bangalore</td>\n",
       "      <td>₹51,589/mo</td>\n",
       "      <td>619068</td>\n",
       "      <td>12</td>\n",
       "    </tr>\n",
       "    <tr>\n",
       "      <th>466</th>\n",
       "      <td>Happiest Minds Technologies</td>\n",
       "      <td>Data Scientist</td>\n",
       "      <td>1.0</td>\n",
       "      <td>Bangalore</td>\n",
       "      <td>₹7,82,543/yr</td>\n",
       "      <td>782543</td>\n",
       "      <td>1</td>\n",
       "    </tr>\n",
       "    <tr>\n",
       "      <th>469</th>\n",
       "      <td>Fresher</td>\n",
       "      <td>Data Scientist</td>\n",
       "      <td>1.0</td>\n",
       "      <td>Bangalore</td>\n",
       "      <td>₹50,000/mo</td>\n",
       "      <td>600000</td>\n",
       "      <td>12</td>\n",
       "    </tr>\n",
       "    <tr>\n",
       "      <th>491</th>\n",
       "      <td>[24]7.ai</td>\n",
       "      <td>Data Scientist</td>\n",
       "      <td>1.0</td>\n",
       "      <td>Bangalore</td>\n",
       "      <td>₹85,643/mo</td>\n",
       "      <td>1027716</td>\n",
       "      <td>12</td>\n",
       "    </tr>\n",
       "    <tr>\n",
       "      <th>500</th>\n",
       "      <td>Genpact</td>\n",
       "      <td>Data Scientist</td>\n",
       "      <td>1.0</td>\n",
       "      <td>Bangalore</td>\n",
       "      <td>₹62,219/mo</td>\n",
       "      <td>746628</td>\n",
       "      <td>12</td>\n",
       "    </tr>\n",
       "  </tbody>\n",
       "</table>\n",
       "<p>100 rows × 7 columns</p>\n",
       "</div>"
      ],
      "text/plain": [
       "                    Company Name       Job Title  Salaries Reported  \\\n",
       "0                       Mu Sigma  Data Scientist              105.0   \n",
       "1                            IBM  Data Scientist               95.0   \n",
       "2      Tata Consultancy Services  Data Scientist               66.0   \n",
       "3               Impact Analytics  Data Scientist               40.0   \n",
       "4                      Accenture  Data Scientist               32.0   \n",
       "..                           ...             ...                ...   \n",
       "459                 DONE by NONE  Data Scientist                1.0   \n",
       "466  Happiest Minds Technologies  Data Scientist                1.0   \n",
       "469                      Fresher  Data Scientist                1.0   \n",
       "491                     [24]7.ai  Data Scientist                1.0   \n",
       "500                      Genpact  Data Scientist                1.0   \n",
       "\n",
       "      Location         Salary  Salary Value  Multipliers  \n",
       "0    Bangalore   ₹6,48,573/yr        648573            1  \n",
       "1    Bangalore  ₹11,91,950/yr       1191950            1  \n",
       "2    Bangalore   ₹8,36,874/yr        836874            1  \n",
       "3    Bangalore   ₹6,69,578/yr        669578            1  \n",
       "4    Bangalore   ₹9,44,110/yr        944110            1  \n",
       "..         ...            ...           ...          ...  \n",
       "459  Bangalore     ₹51,589/mo        619068           12  \n",
       "466  Bangalore   ₹7,82,543/yr        782543            1  \n",
       "469  Bangalore     ₹50,000/mo        600000           12  \n",
       "491  Bangalore     ₹85,643/mo       1027716           12  \n",
       "500  Bangalore     ₹62,219/mo        746628           12  \n",
       "\n",
       "[100 rows x 7 columns]"
      ]
     },
     "execution_count": 22,
     "metadata": {},
     "output_type": "execute_result"
    }
   ],
   "source": [
    "big_companies = data_scientist_comp_dt_comp_sr.index.tolist()\n",
    "big_companies_bool = data_scientist_comp_dt['Company Name'].isin(big_companies)\n",
    "data_scientist_comp_dt_no_outliers = data_scientist_comp_dt[big_companies_bool]\n",
    "data_scientist_comp_dt_no_outliers.head(100)"
   ]
  },
  {
   "cell_type": "code",
   "execution_count": 23,
   "id": "1c5364aa",
   "metadata": {
    "execution": {
     "iopub.execute_input": "2022-02-12T14:05:41.782813Z",
     "iopub.status.busy": "2022-02-12T14:05:41.781703Z",
     "iopub.status.idle": "2022-02-12T14:05:41.791703Z",
     "shell.execute_reply": "2022-02-12T14:05:41.792167Z",
     "shell.execute_reply.started": "2022-02-12T14:04:07.386028Z"
    },
    "papermill": {
     "duration": 0.061093,
     "end_time": "2022-02-12T14:05:41.792366",
     "exception": false,
     "start_time": "2022-02-12T14:05:41.731273",
     "status": "completed"
    },
    "tags": []
   },
   "outputs": [
    {
     "data": {
      "text/plain": [
       "Company Name\n",
       "Société Générale        5719472.0\n",
       "Walmart                 2567381.0\n",
       "Flipkart                2567228.0\n",
       "Ola                     2334960.0\n",
       "Fidelity Investments    2143501.0\n",
       "Housing.com             1893532.0\n",
       "Google                  1857177.0\n",
       "Wipro Technologies      1812640.0\n",
       "Adobe                   1784084.0\n",
       "Axis Bank               1719638.0\n",
       "Name: Salary Value, dtype: float64"
      ]
     },
     "execution_count": 23,
     "metadata": {},
     "output_type": "execute_result"
    }
   ],
   "source": [
    "data_scientist_comp_sr_no_outliers = data_scientist_comp_dt_no_outliers['Salary Value'].groupby(data_scientist_comp_dt_no_outliers['Company Name']).mean().round(0)\n",
    "data_scientist_comp_sr_no_outliers.sort_values(ascending = False).head(10)"
   ]
  },
  {
   "cell_type": "code",
   "execution_count": 24,
   "id": "245b93b8",
   "metadata": {
    "execution": {
     "iopub.execute_input": "2022-02-12T14:05:41.891619Z",
     "iopub.status.busy": "2022-02-12T14:05:41.890925Z",
     "iopub.status.idle": "2022-02-12T14:05:42.113361Z",
     "shell.execute_reply": "2022-02-12T14:05:42.113830Z",
     "shell.execute_reply.started": "2022-02-12T14:04:07.402686Z"
    },
    "papermill": {
     "duration": 0.273882,
     "end_time": "2022-02-12T14:05:42.114066",
     "exception": false,
     "start_time": "2022-02-12T14:05:41.840184",
     "status": "completed"
    },
    "tags": []
   },
   "outputs": [
    {
     "data": {
      "image/png": "[encoded data removed]",
      "text/plain": [
       "<Figure size 1440x288 with 1 Axes>"
      ]
     },
     "metadata": {
      "needs_background": "light"
     },
     "output_type": "display_data"
    }
   ],
   "source": [
    "fig,ax = pyplot.subplots(figsize = (20,4))\n",
    "\n",
    "ax.bar(data_scientist_comp_sr_no_outliers.sort_values(ascending = False).head(10).index,data_scientist_comp_sr_no_outliers.sort_values(ascending = False).head(10).values)\n",
    "ax.yaxis.set_major_formatter(mpl.ticker.StrMethodFormatter('Rs.{x:,.0f}'))\n",
    "ax.yaxis.grid(color='black', linestyle='--', linewidth= 0.3)\n",
    "ax.xaxis.set_tick_params(labelsize='small')\n",
    "ax.set_xlabel('Companies',fontsize = 12)\n",
    "pyplot.show()"
   ]
  },
  {
   "cell_type": "markdown",
   "id": "993266a0",
   "metadata": {
    "papermill": {
     "duration": 0.048748,
     "end_time": "2022-02-12T14:05:42.213764",
     "exception": false,
     "start_time": "2022-02-12T14:05:42.165016",
     "status": "completed"
    },
    "tags": []
   },
   "source": [
    "Now we start seeing some of the big names we were expecting to show up. Lets just have a peek at the wrong end of the table..."
   ]
  },
  {
   "cell_type": "code",
   "execution_count": 25,
   "id": "d3cfca0b",
   "metadata": {
    "execution": {
     "iopub.execute_input": "2022-02-12T14:05:42.315181Z",
     "iopub.status.busy": "2022-02-12T14:05:42.314431Z",
     "iopub.status.idle": "2022-02-12T14:05:42.550216Z",
     "shell.execute_reply": "2022-02-12T14:05:42.550674Z",
     "shell.execute_reply.started": "2022-02-12T14:04:07.635647Z"
    },
    "papermill": {
     "duration": 0.288356,
     "end_time": "2022-02-12T14:05:42.550898",
     "exception": false,
     "start_time": "2022-02-12T14:05:42.262542",
     "status": "completed"
    },
    "tags": []
   },
   "outputs": [
    {
     "data": {
      "image/png": "[encoded data removed]",
      "text/plain": [
       "<Figure size 1440x288 with 1 Axes>"
      ]
     },
     "metadata": {
      "needs_background": "light"
     },
     "output_type": "display_data"
    }
   ],
   "source": [
    "fig,ax = pyplot.subplots(figsize = (20,4))\n",
    "\n",
    "ax.bar(data_scientist_comp_sr_no_outliers.sort_values(ascending = False).tail(10).index,data_scientist_comp_sr_no_outliers.sort_values(ascending = False).tail(10).values)\n",
    "ax.yaxis.set_major_formatter(mpl.ticker.StrMethodFormatter('Rs.{x:,.0f}'))\n",
    "ax.yaxis.grid(color='black', linestyle='--', linewidth= 0.3)\n",
    "ax.xaxis.set_tick_params(labelsize='small')\n",
    "ax.set_xlabel('Companies',fontsize = 12)\n",
    "pyplot.show()"
   ]
  },
  {
   "cell_type": "markdown",
   "id": "b8c196ac",
   "metadata": {
    "papermill": {
     "duration": 0.0495,
     "end_time": "2022-02-12T14:05:42.650260",
     "exception": false,
     "start_time": "2022-02-12T14:05:42.600760",
     "status": "completed"
    },
    "tags": []
   },
   "source": [
    "While this difference is not nearly as bad as when we had outliers still in, the salaries here are still almost 10 times lesser than those at the top of the pile. Still, this analysis can be considered as hardly more than a learning exercise, because several factors like employee score, stock performance, NB are not present. Do your research well while looking for a job!"
   ]
  },
  {
   "cell_type": "markdown",
   "id": "3c9f5925",
   "metadata": {
    "papermill": {
     "duration": 0.04951,
     "end_time": "2022-02-12T14:05:42.749504",
     "exception": false,
     "start_time": "2022-02-12T14:05:42.699994",
     "status": "completed"
    },
    "tags": []
   },
   "source": [
    "# Data Analytics\n",
    "The same steps we performed above can be repeated for Data Analytics. We can skip several of the intermediate steps in between and go directly for the final charts."
   ]
  },
  {
   "cell_type": "code",
   "execution_count": 26,
   "id": "4e7e736a",
   "metadata": {
    "execution": {
     "iopub.execute_input": "2022-02-12T14:05:42.859601Z",
     "iopub.status.busy": "2022-02-12T14:05:42.858166Z",
     "iopub.status.idle": "2022-02-12T14:05:42.881799Z",
     "shell.execute_reply": "2022-02-12T14:05:42.882305Z",
     "shell.execute_reply.started": "2022-02-12T14:04:07.867219Z"
    },
    "papermill": {
     "duration": 0.082536,
     "end_time": "2022-02-12T14:05:42.882503",
     "exception": false,
     "start_time": "2022-02-12T14:05:42.799967",
     "status": "completed"
    },
    "tags": []
   },
   "outputs": [
    {
     "data": {
      "text/html": [
       "<div>\n",
       "<style scoped>\n",
       "    .dataframe tbody tr th:only-of-type {\n",
       "        vertical-align: middle;\n",
       "    }\n",
       "\n",
       "    .dataframe tbody tr th {\n",
       "        vertical-align: top;\n",
       "    }\n",
       "\n",
       "    .dataframe thead th {\n",
       "        text-align: right;\n",
       "    }\n",
       "</style>\n",
       "<table border=\"1\" class=\"dataframe\">\n",
       "  <thead>\n",
       "    <tr style=\"text-align: right;\">\n",
       "      <th></th>\n",
       "      <th>Company Name</th>\n",
       "      <th>Job Title</th>\n",
       "      <th>Salaries Reported</th>\n",
       "      <th>Location</th>\n",
       "      <th>Salary</th>\n",
       "      <th>Salary Value</th>\n",
       "      <th>Multipliers</th>\n",
       "    </tr>\n",
       "  </thead>\n",
       "  <tbody>\n",
       "    <tr>\n",
       "      <th>1954</th>\n",
       "      <td>Accenture</td>\n",
       "      <td>Data Analyst</td>\n",
       "      <td>62.0</td>\n",
       "      <td>Bangalore</td>\n",
       "      <td>₹6,08,077/yr</td>\n",
       "      <td>608077</td>\n",
       "      <td>1</td>\n",
       "    </tr>\n",
       "    <tr>\n",
       "      <th>1955</th>\n",
       "      <td>Tata Consultancy Services</td>\n",
       "      <td>Data Analyst</td>\n",
       "      <td>48.0</td>\n",
       "      <td>Bangalore</td>\n",
       "      <td>₹4,83,697/yr</td>\n",
       "      <td>483697</td>\n",
       "      <td>1</td>\n",
       "    </tr>\n",
       "    <tr>\n",
       "      <th>1956</th>\n",
       "      <td>Mu Sigma</td>\n",
       "      <td>Data Analyst</td>\n",
       "      <td>45.0</td>\n",
       "      <td>Bangalore</td>\n",
       "      <td>₹6,10,598/yr</td>\n",
       "      <td>610598</td>\n",
       "      <td>1</td>\n",
       "    </tr>\n",
       "    <tr>\n",
       "      <th>1957</th>\n",
       "      <td>Amazon</td>\n",
       "      <td>Data Analyst</td>\n",
       "      <td>44.0</td>\n",
       "      <td>Bangalore</td>\n",
       "      <td>₹6,70,610/yr</td>\n",
       "      <td>670610</td>\n",
       "      <td>1</td>\n",
       "    </tr>\n",
       "    <tr>\n",
       "      <th>1958</th>\n",
       "      <td>Myntra</td>\n",
       "      <td>Data Analyst</td>\n",
       "      <td>41.0</td>\n",
       "      <td>Bangalore</td>\n",
       "      <td>₹10,04,884/yr</td>\n",
       "      <td>1004884</td>\n",
       "      <td>1</td>\n",
       "    </tr>\n",
       "    <tr>\n",
       "      <th>...</th>\n",
       "      <td>...</td>\n",
       "      <td>...</td>\n",
       "      <td>...</td>\n",
       "      <td>...</td>\n",
       "      <td>...</td>\n",
       "      <td>...</td>\n",
       "      <td>...</td>\n",
       "    </tr>\n",
       "    <tr>\n",
       "      <th>2202</th>\n",
       "      <td>Wipro</td>\n",
       "      <td>Data Analyst</td>\n",
       "      <td>3.0</td>\n",
       "      <td>Pune</td>\n",
       "      <td>₹30,000/mo</td>\n",
       "      <td>360000</td>\n",
       "      <td>12</td>\n",
       "    </tr>\n",
       "    <tr>\n",
       "      <th>2208</th>\n",
       "      <td>IBM</td>\n",
       "      <td>Data Analyst</td>\n",
       "      <td>3.0</td>\n",
       "      <td>Pune</td>\n",
       "      <td>₹4,66,187/yr</td>\n",
       "      <td>466187</td>\n",
       "      <td>1</td>\n",
       "    </tr>\n",
       "    <tr>\n",
       "      <th>2212</th>\n",
       "      <td>Honeywell</td>\n",
       "      <td>Data Analyst</td>\n",
       "      <td>3.0</td>\n",
       "      <td>Pune</td>\n",
       "      <td>₹3,62,590/yr</td>\n",
       "      <td>362590</td>\n",
       "      <td>1</td>\n",
       "    </tr>\n",
       "    <tr>\n",
       "      <th>2213</th>\n",
       "      <td>First Student</td>\n",
       "      <td>Data Analyst</td>\n",
       "      <td>3.0</td>\n",
       "      <td>Pune</td>\n",
       "      <td>₹4,03,590/yr</td>\n",
       "      <td>403590</td>\n",
       "      <td>1</td>\n",
       "    </tr>\n",
       "    <tr>\n",
       "      <th>2214</th>\n",
       "      <td>vPhrase</td>\n",
       "      <td>Data Analyst</td>\n",
       "      <td>3.0</td>\n",
       "      <td>Pune</td>\n",
       "      <td>₹3,77,367/yr</td>\n",
       "      <td>377367</td>\n",
       "      <td>1</td>\n",
       "    </tr>\n",
       "  </tbody>\n",
       "</table>\n",
       "<p>100 rows × 7 columns</p>\n",
       "</div>"
      ],
      "text/plain": [
       "                   Company Name     Job Title  Salaries Reported   Location  \\\n",
       "1954                  Accenture  Data Analyst               62.0  Bangalore   \n",
       "1955  Tata Consultancy Services  Data Analyst               48.0  Bangalore   \n",
       "1956                   Mu Sigma  Data Analyst               45.0  Bangalore   \n",
       "1957                     Amazon  Data Analyst               44.0  Bangalore   \n",
       "1958                     Myntra  Data Analyst               41.0  Bangalore   \n",
       "...                         ...           ...                ...        ...   \n",
       "2202                      Wipro  Data Analyst                3.0       Pune   \n",
       "2208                        IBM  Data Analyst                3.0       Pune   \n",
       "2212                  Honeywell  Data Analyst                3.0       Pune   \n",
       "2213              First Student  Data Analyst                3.0       Pune   \n",
       "2214                    vPhrase  Data Analyst                3.0       Pune   \n",
       "\n",
       "             Salary  Salary Value  Multipliers  \n",
       "1954   ₹6,08,077/yr        608077            1  \n",
       "1955   ₹4,83,697/yr        483697            1  \n",
       "1956   ₹6,10,598/yr        610598            1  \n",
       "1957   ₹6,70,610/yr        670610            1  \n",
       "1958  ₹10,04,884/yr       1004884            1  \n",
       "...             ...           ...          ...  \n",
       "2202     ₹30,000/mo        360000           12  \n",
       "2208   ₹4,66,187/yr        466187            1  \n",
       "2212   ₹3,62,590/yr        362590            1  \n",
       "2213   ₹4,03,590/yr        403590            1  \n",
       "2214   ₹3,77,367/yr        377367            1  \n",
       "\n",
       "[100 rows x 7 columns]"
      ]
     },
     "execution_count": 26,
     "metadata": {},
     "output_type": "execute_result"
    }
   ],
   "source": [
    "data_analyst_comp_dt = source_dt[source_dt['Job Title'] == \"Data Analyst\"]\n",
    "\n",
    "data_analyst_comp_dt_comp_sr = data_analyst_comp_dt['Salaries Reported'].groupby(data_analyst_comp_dt['Company Name']).sum().round(0)\n",
    "data_analyst_comp_dt_comp_sr = data_analyst_comp_dt_comp_sr.sort_values(ascending = False).head(100)\n",
    "\n",
    "big_companies = data_analyst_comp_dt_comp_sr.index.tolist()\n",
    "big_companies_bool = data_analyst_comp_dt['Company Name'].isin(big_companies)\n",
    "data_analyst_comp_dt_no_outliers = data_analyst_comp_dt[big_companies_bool]\n",
    "data_analyst_comp_dt_no_outliers.head(100)\n"
   ]
  },
  {
   "cell_type": "code",
   "execution_count": 27,
   "id": "e662ef91",
   "metadata": {
    "execution": {
     "iopub.execute_input": "2022-02-12T14:05:42.993557Z",
     "iopub.status.busy": "2022-02-12T14:05:42.992859Z",
     "iopub.status.idle": "2022-02-12T14:05:43.227432Z",
     "shell.execute_reply": "2022-02-12T14:05:43.226776Z",
     "shell.execute_reply.started": "2022-02-12T14:04:07.896882Z"
    },
    "papermill": {
     "duration": 0.294714,
     "end_time": "2022-02-12T14:05:43.227603",
     "exception": false,
     "start_time": "2022-02-12T14:05:42.932889",
     "status": "completed"
    },
    "tags": []
   },
   "outputs": [
    {
     "data": {
      "image/png": "[encoded data removed]",
      "text/plain": [
       "<Figure size 1440x288 with 1 Axes>"
      ]
     },
     "metadata": {
      "needs_background": "light"
     },
     "output_type": "display_data"
    }
   ],
   "source": [
    "data_analyst_comp_sr_no_outliers = data_analyst_comp_dt_no_outliers['Salary Value'].groupby(data_analyst_comp_dt_no_outliers['Company Name']).mean().round(0)\n",
    "\n",
    "fig,ax = pyplot.subplots(figsize = (20,4))\n",
    "\n",
    "ax.bar(data_analyst_comp_sr_no_outliers.sort_values(ascending = False).head(10).index,data_analyst_comp_sr_no_outliers.sort_values(ascending = False).head(10).values)\n",
    "ax.yaxis.set_major_formatter(mpl.ticker.StrMethodFormatter('Rs.{x:,.0f}'))\n",
    "ax.yaxis.grid(color='black', linestyle='--', linewidth= 0.3)\n",
    "ax.xaxis.set_tick_params(labelsize='small')\n",
    "ax.set_xlabel('Companies',fontsize = 12)\n",
    "pyplot.show()"
   ]
  },
  {
   "cell_type": "code",
   "execution_count": 28,
   "id": "269ca324",
   "metadata": {
    "execution": {
     "iopub.execute_input": "2022-02-12T14:05:43.341751Z",
     "iopub.status.busy": "2022-02-12T14:05:43.341035Z",
     "iopub.status.idle": "2022-02-12T14:05:43.706001Z",
     "shell.execute_reply": "2022-02-12T14:05:43.706516Z",
     "shell.execute_reply.started": "2022-02-12T14:04:08.150844Z"
    },
    "papermill": {
     "duration": 0.427724,
     "end_time": "2022-02-12T14:05:43.706722",
     "exception": false,
     "start_time": "2022-02-12T14:05:43.278998",
     "status": "completed"
    },
    "tags": []
   },
   "outputs": [
    {
     "data": {
      "image/png": "[encoded data removed]",
      "text/plain": [
       "<Figure size 1440x288 with 1 Axes>"
      ]
     },
     "metadata": {
      "needs_background": "light"
     },
     "output_type": "display_data"
    }
   ],
   "source": [
    "fig,ax = pyplot.subplots(figsize = (20,4))\n",
    "\n",
    "ax.bar(data_analyst_comp_sr_no_outliers.sort_values(ascending = False).tail(9).index,data_analyst_comp_sr_no_outliers.sort_values(ascending = False).tail(9).values)\n",
    "ax.yaxis.set_major_formatter(mpl.ticker.StrMethodFormatter('Rs.{x:,.0f}'))\n",
    "ax.yaxis.grid(color='black', linestyle='--', linewidth= 0.3)\n",
    "ax.xaxis.set_tick_params(labelsize='small')\n",
    "ax.set_xlabel('Companies',fontsize = 12)\n",
    "pyplot.show()"
   ]
  },
  {
   "cell_type": "markdown",
   "id": "416690ac",
   "metadata": {
    "papermill": {
     "duration": 0.053721,
     "end_time": "2022-02-12T14:05:43.812737",
     "exception": false,
     "start_time": "2022-02-12T14:05:43.759016",
     "status": "completed"
    },
    "tags": []
   },
   "source": [
    "We can see that Data Analyst Salaries are in the range of 60-80% of the salaries of Data Scientists.\n",
    "This gap is expected though, as there is a lot of overlap between these two designations, and data scientist positions often have analytics near the lower rung of the vertical."
   ]
  },
  {
   "cell_type": "markdown",
   "id": "fa364f90",
   "metadata": {
    "papermill": {
     "duration": 0.052207,
     "end_time": "2022-02-12T14:05:43.917497",
     "exception": false,
     "start_time": "2022-02-12T14:05:43.865290",
     "status": "completed"
    },
    "tags": []
   },
   "source": [
    "# Machine Learning Engineer\n",
    "No further information needed. Steps are same as above."
   ]
  },
  {
   "cell_type": "code",
   "execution_count": 29,
   "id": "d8137642",
   "metadata": {
    "execution": {
     "iopub.execute_input": "2022-02-12T14:05:44.028571Z",
     "iopub.status.busy": "2022-02-12T14:05:44.027799Z",
     "iopub.status.idle": "2022-02-12T14:05:44.053976Z",
     "shell.execute_reply": "2022-02-12T14:05:44.054482Z",
     "shell.execute_reply.started": "2022-02-12T14:04:08.517459Z"
    },
    "papermill": {
     "duration": 0.084507,
     "end_time": "2022-02-12T14:05:44.054688",
     "exception": false,
     "start_time": "2022-02-12T14:05:43.970181",
     "status": "completed"
    },
    "tags": []
   },
   "outputs": [
    {
     "data": {
      "text/html": [
       "<div>\n",
       "<style scoped>\n",
       "    .dataframe tbody tr th:only-of-type {\n",
       "        vertical-align: middle;\n",
       "    }\n",
       "\n",
       "    .dataframe tbody tr th {\n",
       "        vertical-align: top;\n",
       "    }\n",
       "\n",
       "    .dataframe thead th {\n",
       "        text-align: right;\n",
       "    }\n",
       "</style>\n",
       "<table border=\"1\" class=\"dataframe\">\n",
       "  <thead>\n",
       "    <tr style=\"text-align: right;\">\n",
       "      <th></th>\n",
       "      <th>Company Name</th>\n",
       "      <th>Job Title</th>\n",
       "      <th>Salaries Reported</th>\n",
       "      <th>Location</th>\n",
       "      <th>Salary</th>\n",
       "      <th>Salary Value</th>\n",
       "      <th>Multipliers</th>\n",
       "    </tr>\n",
       "  </thead>\n",
       "  <tbody>\n",
       "    <tr>\n",
       "      <th>3748</th>\n",
       "      <td>Quantiphi</td>\n",
       "      <td>Machine Learning Engineer</td>\n",
       "      <td>28.0</td>\n",
       "      <td>Bangalore</td>\n",
       "      <td>₹8,75,066/yr</td>\n",
       "      <td>875066</td>\n",
       "      <td>1</td>\n",
       "    </tr>\n",
       "    <tr>\n",
       "      <th>3749</th>\n",
       "      <td>Tata Consultancy Services</td>\n",
       "      <td>Machine Learning Engineer</td>\n",
       "      <td>9.0</td>\n",
       "      <td>Bangalore</td>\n",
       "      <td>₹4,90,531/yr</td>\n",
       "      <td>490531</td>\n",
       "      <td>1</td>\n",
       "    </tr>\n",
       "    <tr>\n",
       "      <th>3750</th>\n",
       "      <td>Accenture</td>\n",
       "      <td>Machine Learning Engineer</td>\n",
       "      <td>5.0</td>\n",
       "      <td>Bangalore</td>\n",
       "      <td>₹7,48,712/yr</td>\n",
       "      <td>748712</td>\n",
       "      <td>1</td>\n",
       "    </tr>\n",
       "    <tr>\n",
       "      <th>3751</th>\n",
       "      <td>Amazon</td>\n",
       "      <td>Machine Learning Engineer</td>\n",
       "      <td>4.0</td>\n",
       "      <td>Bangalore</td>\n",
       "      <td>₹15,25,549/yr</td>\n",
       "      <td>1525549</td>\n",
       "      <td>1</td>\n",
       "    </tr>\n",
       "    <tr>\n",
       "      <th>3752</th>\n",
       "      <td>Intel Corporation</td>\n",
       "      <td>Machine Learning Engineer</td>\n",
       "      <td>4.0</td>\n",
       "      <td>Bangalore</td>\n",
       "      <td>₹52,096/mo</td>\n",
       "      <td>625152</td>\n",
       "      <td>12</td>\n",
       "    </tr>\n",
       "    <tr>\n",
       "      <th>...</th>\n",
       "      <td>...</td>\n",
       "      <td>...</td>\n",
       "      <td>...</td>\n",
       "      <td>...</td>\n",
       "      <td>...</td>\n",
       "      <td>...</td>\n",
       "      <td>...</td>\n",
       "    </tr>\n",
       "    <tr>\n",
       "      <th>4037</th>\n",
       "      <td>AppliedAICourse</td>\n",
       "      <td>Machine Learning Engineer</td>\n",
       "      <td>3.0</td>\n",
       "      <td>Hyderabad</td>\n",
       "      <td>₹5,69,784/yr</td>\n",
       "      <td>569784</td>\n",
       "      <td>1</td>\n",
       "    </tr>\n",
       "    <tr>\n",
       "      <th>4038</th>\n",
       "      <td>DeepEdge</td>\n",
       "      <td>Machine Learning Engineer</td>\n",
       "      <td>3.0</td>\n",
       "      <td>Hyderabad</td>\n",
       "      <td>₹8,80,000/yr</td>\n",
       "      <td>880000</td>\n",
       "      <td>1</td>\n",
       "    </tr>\n",
       "    <tr>\n",
       "      <th>4039</th>\n",
       "      <td>Amazon</td>\n",
       "      <td>Machine Learning Engineer</td>\n",
       "      <td>2.0</td>\n",
       "      <td>Hyderabad</td>\n",
       "      <td>$85,843/yr</td>\n",
       "      <td>85843</td>\n",
       "      <td>1</td>\n",
       "    </tr>\n",
       "    <tr>\n",
       "      <th>4040</th>\n",
       "      <td>DONE by NONE</td>\n",
       "      <td>Machine Learning Engineer</td>\n",
       "      <td>2.0</td>\n",
       "      <td>Hyderabad</td>\n",
       "      <td>₹68,347/mo</td>\n",
       "      <td>820164</td>\n",
       "      <td>12</td>\n",
       "    </tr>\n",
       "    <tr>\n",
       "      <th>4041</th>\n",
       "      <td>Aviso</td>\n",
       "      <td>Machine Learning Engineer</td>\n",
       "      <td>2.0</td>\n",
       "      <td>Hyderabad</td>\n",
       "      <td>₹1,00,905/mo</td>\n",
       "      <td>1210860</td>\n",
       "      <td>12</td>\n",
       "    </tr>\n",
       "  </tbody>\n",
       "</table>\n",
       "<p>100 rows × 7 columns</p>\n",
       "</div>"
      ],
      "text/plain": [
       "                   Company Name                  Job Title  Salaries Reported  \\\n",
       "3748                  Quantiphi  Machine Learning Engineer               28.0   \n",
       "3749  Tata Consultancy Services  Machine Learning Engineer                9.0   \n",
       "3750                  Accenture  Machine Learning Engineer                5.0   \n",
       "3751                     Amazon  Machine Learning Engineer                4.0   \n",
       "3752          Intel Corporation  Machine Learning Engineer                4.0   \n",
       "...                         ...                        ...                ...   \n",
       "4037            AppliedAICourse  Machine Learning Engineer                3.0   \n",
       "4038                   DeepEdge  Machine Learning Engineer                3.0   \n",
       "4039                     Amazon  Machine Learning Engineer                2.0   \n",
       "4040               DONE by NONE  Machine Learning Engineer                2.0   \n",
       "4041                      Aviso  Machine Learning Engineer                2.0   \n",
       "\n",
       "       Location         Salary  Salary Value  Multipliers  \n",
       "3748  Bangalore   ₹8,75,066/yr        875066            1  \n",
       "3749  Bangalore   ₹4,90,531/yr        490531            1  \n",
       "3750  Bangalore   ₹7,48,712/yr        748712            1  \n",
       "3751  Bangalore  ₹15,25,549/yr       1525549            1  \n",
       "3752  Bangalore     ₹52,096/mo        625152           12  \n",
       "...         ...            ...           ...          ...  \n",
       "4037  Hyderabad   ₹5,69,784/yr        569784            1  \n",
       "4038  Hyderabad   ₹8,80,000/yr        880000            1  \n",
       "4039  Hyderabad     $85,843/yr         85843            1  \n",
       "4040  Hyderabad     ₹68,347/mo        820164           12  \n",
       "4041  Hyderabad   ₹1,00,905/mo       1210860           12  \n",
       "\n",
       "[100 rows x 7 columns]"
      ]
     },
     "execution_count": 29,
     "metadata": {},
     "output_type": "execute_result"
    }
   ],
   "source": [
    "data_mle_comp_dt = source_dt[source_dt['Job Title'] == \"Machine Learning Engineer\"]\n",
    "\n",
    "data_mle_comp_dt_comp_sr = data_mle_comp_dt['Salaries Reported'].groupby(data_mle_comp_dt['Company Name']).sum().round(0)\n",
    "data_mle_comp_dt_comp_sr = data_mle_comp_dt_comp_sr.sort_values(ascending = False).head(100)\n",
    "\n",
    "big_companies = data_mle_comp_dt_comp_sr.index.tolist()\n",
    "big_companies_bool = data_mle_comp_dt['Company Name'].isin(big_companies)\n",
    "data_mle_comp_dt_no_outliers = data_mle_comp_dt[big_companies_bool]\n",
    "data_mle_comp_dt_no_outliers.head(100)\n"
   ]
  },
  {
   "cell_type": "code",
   "execution_count": 30,
   "id": "9bf8ce7c",
   "metadata": {
    "execution": {
     "iopub.execute_input": "2022-02-12T14:05:44.164773Z",
     "iopub.status.busy": "2022-02-12T14:05:44.164099Z",
     "iopub.status.idle": "2022-02-12T14:05:44.384823Z",
     "shell.execute_reply": "2022-02-12T14:05:44.385583Z",
     "shell.execute_reply.started": "2022-02-12T14:04:08.548670Z"
    },
    "papermill": {
     "duration": 0.278437,
     "end_time": "2022-02-12T14:05:44.385843",
     "exception": false,
     "start_time": "2022-02-12T14:05:44.107406",
     "status": "completed"
    },
    "tags": []
   },
   "outputs": [
    {
     "data": {
      "image/png": "[encoded data removed]",
      "text/plain": [
       "<Figure size 1440x288 with 1 Axes>"
      ]
     },
     "metadata": {
      "needs_background": "light"
     },
     "output_type": "display_data"
    }
   ],
   "source": [
    "data_mle_comp_sr_no_outliers = data_mle_comp_dt_no_outliers['Salary Value'].groupby(data_mle_comp_dt_no_outliers['Company Name']).mean().round(0)\n",
    "\n",
    "fig,ax = pyplot.subplots(figsize = (20,4))\n",
    "\n",
    "ax.bar(data_mle_comp_sr_no_outliers.sort_values(ascending = False).head(10).index,data_mle_comp_sr_no_outliers.sort_values(ascending = False).head(10).values)\n",
    "ax.yaxis.set_major_formatter(mpl.ticker.StrMethodFormatter('Rs.{x:,.0f}'))\n",
    "ax.yaxis.grid(color='black', linestyle='--', linewidth= 0.3)\n",
    "ax.xaxis.set_tick_params(labelsize='small')\n",
    "ax.set_xlabel('Companies',fontsize = 12)\n",
    "pyplot.show()"
   ]
  },
  {
   "cell_type": "code",
   "execution_count": 31,
   "id": "e387aa29",
   "metadata": {
    "execution": {
     "iopub.execute_input": "2022-02-12T14:05:44.498148Z",
     "iopub.status.busy": "2022-02-12T14:05:44.497526Z",
     "iopub.status.idle": "2022-02-12T14:05:44.727869Z",
     "shell.execute_reply": "2022-02-12T14:05:44.728394Z",
     "shell.execute_reply.started": "2022-02-12T14:04:08.775886Z"
    },
    "papermill": {
     "duration": 0.288361,
     "end_time": "2022-02-12T14:05:44.728613",
     "exception": false,
     "start_time": "2022-02-12T14:05:44.440252",
     "status": "completed"
    },
    "tags": []
   },
   "outputs": [
    {
     "data": {
      "image/png": "[encoded data removed]",
      "text/plain": [
       "<Figure size 1440x288 with 1 Axes>"
      ]
     },
     "metadata": {
      "needs_background": "light"
     },
     "output_type": "display_data"
    }
   ],
   "source": [
    "data_mle_comp_sr_no_outliers = data_mle_comp_dt_no_outliers['Salary Value'].groupby(data_mle_comp_dt_no_outliers['Company Name']).mean().round(0)\n",
    "\n",
    "fig,ax = pyplot.subplots(figsize = (20,4))\n",
    "\n",
    "ax.bar(data_mle_comp_sr_no_outliers.sort_values(ascending = False).tail(10).index,data_mle_comp_sr_no_outliers.sort_values(ascending = False).tail(10).values)\n",
    "ax.yaxis.set_major_formatter(mpl.ticker.StrMethodFormatter('Rs.{x:,.0f}'))\n",
    "ax.yaxis.grid(color='black', linestyle='--', linewidth= 0.3)\n",
    "ax.xaxis.set_tick_params(labelsize='small')\n",
    "ax.set_xlabel('Companies',fontsize = 12)\n",
    "pyplot.show()"
   ]
  },
  {
   "cell_type": "markdown",
   "id": "b30986c3",
   "metadata": {
    "papermill": {
     "duration": 0.056404,
     "end_time": "2022-02-12T14:05:44.841001",
     "exception": false,
     "start_time": "2022-02-12T14:05:44.784597",
     "status": "completed"
    },
    "tags": []
   },
   "source": [
    "MLE Salaries are comparable or lower than Data Scientist?? Whats going on? The reason is several DS roles include machine learning engineer as part of the job. DS profiles can be considered as a package of MLE + Data analytics"
   ]
  },
  {
   "cell_type": "markdown",
   "id": "56be9ea1",
   "metadata": {
    "papermill": {
     "duration": 0.055015,
     "end_time": "2022-02-12T14:05:44.950986",
     "exception": false,
     "start_time": "2022-02-12T14:05:44.895971",
     "status": "completed"
    },
    "tags": []
   },
   "source": [
    "# Data Engineer"
   ]
  },
  {
   "cell_type": "code",
   "execution_count": 32,
   "id": "a1f68d1f",
   "metadata": {
    "execution": {
     "iopub.execute_input": "2022-02-12T14:05:45.066101Z",
     "iopub.status.busy": "2022-02-12T14:05:45.065312Z",
     "iopub.status.idle": "2022-02-12T14:05:45.091096Z",
     "shell.execute_reply": "2022-02-12T14:05:45.091592Z",
     "shell.execute_reply.started": "2022-02-12T14:04:09.014229Z"
    },
    "papermill": {
     "duration": 0.085993,
     "end_time": "2022-02-12T14:05:45.091800",
     "exception": false,
     "start_time": "2022-02-12T14:05:45.005807",
     "status": "completed"
    },
    "tags": []
   },
   "outputs": [
    {
     "data": {
      "text/html": [
       "<div>\n",
       "<style scoped>\n",
       "    .dataframe tbody tr th:only-of-type {\n",
       "        vertical-align: middle;\n",
       "    }\n",
       "\n",
       "    .dataframe tbody tr th {\n",
       "        vertical-align: top;\n",
       "    }\n",
       "\n",
       "    .dataframe thead th {\n",
       "        text-align: right;\n",
       "    }\n",
       "</style>\n",
       "<table border=\"1\" class=\"dataframe\">\n",
       "  <thead>\n",
       "    <tr style=\"text-align: right;\">\n",
       "      <th></th>\n",
       "      <th>Company Name</th>\n",
       "      <th>Job Title</th>\n",
       "      <th>Salaries Reported</th>\n",
       "      <th>Location</th>\n",
       "      <th>Salary</th>\n",
       "      <th>Salary Value</th>\n",
       "      <th>Multipliers</th>\n",
       "    </tr>\n",
       "  </thead>\n",
       "  <tbody>\n",
       "    <tr>\n",
       "      <th>2943</th>\n",
       "      <td>IBM</td>\n",
       "      <td>Data Engineer</td>\n",
       "      <td>46.0</td>\n",
       "      <td>Bangalore</td>\n",
       "      <td>₹8,16,692/yr</td>\n",
       "      <td>816692</td>\n",
       "      <td>1</td>\n",
       "    </tr>\n",
       "    <tr>\n",
       "      <th>2944</th>\n",
       "      <td>Tata Consultancy Services</td>\n",
       "      <td>Data Engineer</td>\n",
       "      <td>40.0</td>\n",
       "      <td>Bangalore</td>\n",
       "      <td>₹5,10,646/yr</td>\n",
       "      <td>510646</td>\n",
       "      <td>1</td>\n",
       "    </tr>\n",
       "    <tr>\n",
       "      <th>2945</th>\n",
       "      <td>LTI</td>\n",
       "      <td>Data Engineer</td>\n",
       "      <td>32.0</td>\n",
       "      <td>Bangalore</td>\n",
       "      <td>₹4,37,609/yr</td>\n",
       "      <td>437609</td>\n",
       "      <td>1</td>\n",
       "    </tr>\n",
       "    <tr>\n",
       "      <th>2946</th>\n",
       "      <td>Accenture</td>\n",
       "      <td>Data Engineer</td>\n",
       "      <td>31.0</td>\n",
       "      <td>Bangalore</td>\n",
       "      <td>₹6,54,767/yr</td>\n",
       "      <td>654767</td>\n",
       "      <td>1</td>\n",
       "    </tr>\n",
       "    <tr>\n",
       "      <th>2947</th>\n",
       "      <td>DXC Technology</td>\n",
       "      <td>Data Engineer</td>\n",
       "      <td>22.0</td>\n",
       "      <td>Bangalore</td>\n",
       "      <td>₹6,26,072/yr</td>\n",
       "      <td>626072</td>\n",
       "      <td>1</td>\n",
       "    </tr>\n",
       "    <tr>\n",
       "      <th>...</th>\n",
       "      <td>...</td>\n",
       "      <td>...</td>\n",
       "      <td>...</td>\n",
       "      <td>...</td>\n",
       "      <td>...</td>\n",
       "      <td>...</td>\n",
       "      <td>...</td>\n",
       "    </tr>\n",
       "    <tr>\n",
       "      <th>3171</th>\n",
       "      <td>IBM</td>\n",
       "      <td>Data Engineer</td>\n",
       "      <td>2.0</td>\n",
       "      <td>Pune</td>\n",
       "      <td>₹5,89,439/yr</td>\n",
       "      <td>589439</td>\n",
       "      <td>1</td>\n",
       "    </tr>\n",
       "    <tr>\n",
       "      <th>3181</th>\n",
       "      <td>Mastercard</td>\n",
       "      <td>Data Engineer</td>\n",
       "      <td>2.0</td>\n",
       "      <td>Pune</td>\n",
       "      <td>₹14,99,338/yr</td>\n",
       "      <td>1499338</td>\n",
       "      <td>1</td>\n",
       "    </tr>\n",
       "    <tr>\n",
       "      <th>3214</th>\n",
       "      <td>Infostretch</td>\n",
       "      <td>Data Engineer</td>\n",
       "      <td>1.0</td>\n",
       "      <td>Pune</td>\n",
       "      <td>₹11,293/mo</td>\n",
       "      <td>135516</td>\n",
       "      <td>12</td>\n",
       "    </tr>\n",
       "    <tr>\n",
       "      <th>3240</th>\n",
       "      <td>Dell Technologies</td>\n",
       "      <td>Data Engineer</td>\n",
       "      <td>1.0</td>\n",
       "      <td>Pune</td>\n",
       "      <td>₹9,04,395/yr</td>\n",
       "      <td>904395</td>\n",
       "      <td>1</td>\n",
       "    </tr>\n",
       "    <tr>\n",
       "      <th>3247</th>\n",
       "      <td>Lumiq (India)</td>\n",
       "      <td>Data Engineer</td>\n",
       "      <td>1.0</td>\n",
       "      <td>Pune</td>\n",
       "      <td>₹8,00,000/yr</td>\n",
       "      <td>800000</td>\n",
       "      <td>1</td>\n",
       "    </tr>\n",
       "  </tbody>\n",
       "</table>\n",
       "<p>100 rows × 7 columns</p>\n",
       "</div>"
      ],
      "text/plain": [
       "                   Company Name      Job Title  Salaries Reported   Location  \\\n",
       "2943                        IBM  Data Engineer               46.0  Bangalore   \n",
       "2944  Tata Consultancy Services  Data Engineer               40.0  Bangalore   \n",
       "2945                        LTI  Data Engineer               32.0  Bangalore   \n",
       "2946                  Accenture  Data Engineer               31.0  Bangalore   \n",
       "2947             DXC Technology  Data Engineer               22.0  Bangalore   \n",
       "...                         ...            ...                ...        ...   \n",
       "3171                        IBM  Data Engineer                2.0       Pune   \n",
       "3181                 Mastercard  Data Engineer                2.0       Pune   \n",
       "3214                Infostretch  Data Engineer                1.0       Pune   \n",
       "3240          Dell Technologies  Data Engineer                1.0       Pune   \n",
       "3247              Lumiq (India)  Data Engineer                1.0       Pune   \n",
       "\n",
       "             Salary  Salary Value  Multipliers  \n",
       "2943   ₹8,16,692/yr        816692            1  \n",
       "2944   ₹5,10,646/yr        510646            1  \n",
       "2945   ₹4,37,609/yr        437609            1  \n",
       "2946   ₹6,54,767/yr        654767            1  \n",
       "2947   ₹6,26,072/yr        626072            1  \n",
       "...             ...           ...          ...  \n",
       "3171   ₹5,89,439/yr        589439            1  \n",
       "3181  ₹14,99,338/yr       1499338            1  \n",
       "3214     ₹11,293/mo        135516           12  \n",
       "3240   ₹9,04,395/yr        904395            1  \n",
       "3247   ₹8,00,000/yr        800000            1  \n",
       "\n",
       "[100 rows x 7 columns]"
      ]
     },
     "execution_count": 32,
     "metadata": {},
     "output_type": "execute_result"
    }
   ],
   "source": [
    "data_de_comp_dt = source_dt[source_dt['Job Title'] == \"Data Engineer\"]\n",
    "\n",
    "data_de_comp_dt_comp_sr = data_de_comp_dt['Salaries Reported'].groupby(data_de_comp_dt['Company Name']).sum().round(0)\n",
    "data_de_comp_dt_comp_sr = data_de_comp_dt_comp_sr.sort_values(ascending = False).head(100)\n",
    "\n",
    "big_companies = data_de_comp_dt_comp_sr.index.tolist()\n",
    "big_companies_bool = data_de_comp_dt['Company Name'].isin(big_companies)\n",
    "data_de_comp_dt_no_outliers = data_de_comp_dt[big_companies_bool]\n",
    "data_de_comp_dt_no_outliers.head(100)"
   ]
  },
  {
   "cell_type": "code",
   "execution_count": 33,
   "id": "c42cf98f",
   "metadata": {
    "execution": {
     "iopub.execute_input": "2022-02-12T14:05:45.208199Z",
     "iopub.status.busy": "2022-02-12T14:05:45.207450Z",
     "iopub.status.idle": "2022-02-12T14:05:45.427357Z",
     "shell.execute_reply": "2022-02-12T14:05:45.426675Z",
     "shell.execute_reply.started": "2022-02-12T14:04:09.044597Z"
    },
    "papermill": {
     "duration": 0.2784,
     "end_time": "2022-02-12T14:05:45.427520",
     "exception": false,
     "start_time": "2022-02-12T14:05:45.149120",
     "status": "completed"
    },
    "tags": []
   },
   "outputs": [
    {
     "data": {
      "image/png": "[encoded data removed]",
      "text/plain": [
       "<Figure size 1440x288 with 1 Axes>"
      ]
     },
     "metadata": {
      "needs_background": "light"
     },
     "output_type": "display_data"
    }
   ],
   "source": [
    "data_de_comp_sr_no_outliers = data_de_comp_dt_no_outliers['Salary Value'].groupby(data_de_comp_dt_no_outliers['Company Name']).mean().round(0)\n",
    "\n",
    "fig,ax = pyplot.subplots(figsize = (20,4))\n",
    "\n",
    "ax.bar(data_de_comp_sr_no_outliers.sort_values(ascending = False).head(10).index,data_de_comp_sr_no_outliers.sort_values(ascending = False).head(10).values)\n",
    "ax.yaxis.set_major_formatter(mpl.ticker.StrMethodFormatter('Rs.{x:,.0f}'))\n",
    "ax.yaxis.grid(color='black', linestyle='--', linewidth= 0.3)\n",
    "ax.xaxis.set_tick_params(labelsize='small')\n",
    "ax.set_xlabel('Companies',fontsize = 12)\n",
    "pyplot.show()"
   ]
  },
  {
   "cell_type": "code",
   "execution_count": 34,
   "id": "92c6b176",
   "metadata": {
    "execution": {
     "iopub.execute_input": "2022-02-12T14:05:45.545684Z",
     "iopub.status.busy": "2022-02-12T14:05:45.544911Z",
     "iopub.status.idle": "2022-02-12T14:05:45.760324Z",
     "shell.execute_reply": "2022-02-12T14:05:45.760864Z",
     "shell.execute_reply.started": "2022-02-12T14:04:09.272670Z"
    },
    "papermill": {
     "duration": 0.276583,
     "end_time": "2022-02-12T14:05:45.761092",
     "exception": false,
     "start_time": "2022-02-12T14:05:45.484509",
     "status": "completed"
    },
    "tags": []
   },
   "outputs": [
    {
     "data": {
      "image/png": "[encoded data removed]",
      "text/plain": [
       "<Figure size 1440x288 with 1 Axes>"
      ]
     },
     "metadata": {
      "needs_background": "light"
     },
     "output_type": "display_data"
    }
   ],
   "source": [
    "data_de_comp_sr_no_outliers = data_de_comp_dt_no_outliers['Salary Value'].groupby(data_de_comp_dt_no_outliers['Company Name']).mean().round(0)\n",
    "\n",
    "fig,ax = pyplot.subplots(figsize = (20,4))\n",
    "\n",
    "ax.bar(data_de_comp_sr_no_outliers.sort_values(ascending = False).tail(10).index,data_de_comp_sr_no_outliers.sort_values(ascending = False).tail(10).values)\n",
    "ax.yaxis.set_major_formatter(mpl.ticker.StrMethodFormatter('Rs.{x:,.0f}'))\n",
    "ax.yaxis.grid(color='black', linestyle='--', linewidth= 0.3)\n",
    "ax.xaxis.set_tick_params(labelsize='small')\n",
    "ax.set_xlabel('Companies',fontsize = 12)\n",
    "pyplot.show()"
   ]
  },
  {
   "cell_type": "markdown",
   "id": "acb90f8d",
   "metadata": {
    "papermill": {
     "duration": 0.066367,
     "end_time": "2022-02-12T14:05:45.887561",
     "exception": false,
     "start_time": "2022-02-12T14:05:45.821194",
     "status": "completed"
    },
    "tags": []
   },
   "source": [
    "Data engineer salaries are lesser or comparable to Data scientists. Again its because of the more exhaustive hybrid nature of DS profiles."
   ]
  },
  {
   "cell_type": "code",
   "execution_count": null,
   "id": "6e33589f",
   "metadata": {
    "papermill": {
     "duration": 0.058453,
     "end_time": "2022-02-12T14:05:46.005752",
     "exception": false,
     "start_time": "2022-02-12T14:05:45.947299",
     "status": "completed"
    },
    "tags": []
   },
   "outputs": [],
   "source": []
  }
 ],
 "metadata": {
  "kernelspec": {
   "display_name": "Python 3",
   "language": "python",
   "name": "python3"
  },
  "language_info": {
   "codemirror_mode": {
    "name": "ipython",
    "version": 3
   },
   "file_extension": ".py",
   "mimetype": "text/x-python",
   "name": "python",
   "nbconvert_exporter": "python",
   "pygments_lexer": "ipython3",
   "version": "3.7.12"
  },
  "papermill": {
   "default_parameters": {},
   "duration": 21.094451,
   "end_time": "2022-02-12T14:05:47.077964",
   "environment_variables": {},
   "exception": null,
   "input_path": "__notebook__.ipynb",
   "output_path": "__notebook__.ipynb",
   "parameters": {},
   "start_time": "2022-02-12T14:05:25.983513",
   "version": "2.3.3"
  }
 },
 "nbformat": 4,
 "nbformat_minor": 5
}
